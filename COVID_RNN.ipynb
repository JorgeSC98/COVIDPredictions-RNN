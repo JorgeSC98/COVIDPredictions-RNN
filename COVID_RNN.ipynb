{
  "nbformat": 4,
  "nbformat_minor": 0,
  "metadata": {
    "colab": {
      "provenance": [],
      "include_colab_link": true
    },
    "kernelspec": {
      "name": "python3",
      "display_name": "Python 3"
    },
    "language_info": {
      "name": "python"
    }
  },
  "cells": [
    {
      "cell_type": "markdown",
      "metadata": {
        "id": "view-in-github",
        "colab_type": "text"
      },
      "source": [
        "<a href=\"https://colab.research.google.com/github/JorgeSC98/COVIDPredictions-RNN/blob/main/COVID_RNN.ipynb\" target=\"_parent\"><img src=\"https://colab.research.google.com/assets/colab-badge.svg\" alt=\"Open In Colab\"/></a>"
      ]
    },
    {
      "cell_type": "markdown",
      "source": [
        "# COVID Death Cases Prediction with RNN"
      ],
      "metadata": {
        "id": "GnGdTk4zDcF-"
      }
    },
    {
      "cell_type": "markdown",
      "source": [
        "###  Authors\n",
        "Jorge Sáenz, Omar Muñoz, Elias Villalvazo, Israel Cárdenas, Luis Deutsch. \n"
      ],
      "metadata": {
        "id": "VK8fcxFKDmvU"
      }
    },
    {
      "cell_type": "markdown",
      "source": [
        "## Summary"
      ],
      "metadata": {
        "id": "9HUA7ZrBDvus"
      }
    },
    {
      "cell_type": "markdown",
      "source": [
        "COVID-19 has been a situation that has generated tons of data every day from infections to vaccination rates worldwide. This paper will present the preprocessing, classification, and comparison of three different RNN architectures applied to a COVID-19 dataset from Mexico in order to predict death cases over months, providing the best hyperparameters found for each model."
      ],
      "metadata": {
        "id": "S62aFR6ZSal1"
      }
    },
    {
      "cell_type": "markdown",
      "source": [
        "# Methodology"
      ],
      "metadata": {
        "id": "2veTl0tSDzAl"
      }
    },
    {
      "cell_type": "markdown",
      "source": [
        "## Data preprocessing\n",
        "\n",
        "\"Our World in Data\" is an online publication in collaboration with The University of Oxford that provides a reliable repository of datasets about dozens of topics focusing on those big problems which affect the world.\n",
        "\n",
        "The used [dataset](https://ourworldindata.org/covid-vaccinations) is a collection of data from every country in the world related to the COVID-19 outbreak. This dataset is updated every day for all countries, allowing a better traceability. Additionally, it contains multiple indicators which can lead to take better decisions.\n",
        "\n",
        "A more-detailed description of the variables from this dataset can be obtained from the [GitHub](https://github.com/owid/covid-19-data/blob/master/public/data/README.md) reposotiry of the project."
      ],
      "metadata": {
        "id": "14EUfEn-EEKZ"
      }
    },
    {
      "cell_type": "code",
      "source": [
        "from google.colab            import files\n",
        "from google.colab            import drive\n",
        "from os.path                 import isfile, join\n",
        "from os                      import listdir\n",
        "\n",
        "import numpy                 as np\n",
        "import pandas                as pd\n",
        "\n",
        "from sklearn.preprocessing   import StandardScaler\n",
        "\n",
        "drive.mount('/content/gdrive')"
      ],
      "metadata": {
        "id": "r3aPSVnJEDf2",
        "colab": {
          "base_uri": "https://localhost:8080/"
        },
        "outputId": "6c1f75cb-90b0-44f3-be93-82ae2a6acdca"
      },
      "execution_count": null,
      "outputs": [
        {
          "output_type": "stream",
          "name": "stdout",
          "text": [
            "Mounted at /content/gdrive\n"
          ]
        }
      ]
    },
    {
      "cell_type": "markdown",
      "source": [
        "**Keep data of interest**"
      ],
      "metadata": {
        "id": "l06Zc9Cb0dKD"
      }
    },
    {
      "cell_type": "markdown",
      "source": [
        "For the sake of this work, we will only keep data from Mexico and will apply basic filtering, such as the removal of NULL columns and non-numeric data."
      ],
      "metadata": {
        "id": "LkpKrhG_sSvq"
      }
    },
    {
      "cell_type": "code",
      "source": [
        "path     = '/content/gdrive/MyDrive/Machine_Learning/COVID-DeathCases-Prediction/'\n",
        "filename = 'owid-covid-data.csv'\n",
        "df       = pd.read_csv(path + filename)\n",
        "\n",
        "# Keep data from Mexico only\n",
        "countries_of_interest = ['Mexico']\n",
        "df_filtered = df[df['location'].isin(countries_of_interest)]\n",
        "\n",
        "# Drop columns where all data is NULL\n",
        "df_filtered = df_filtered.dropna(how='all', axis=1)\n",
        "\n",
        "# Keep numeric features only\n",
        "df_filtered = df_filtered.select_dtypes(include=['float64'])"
      ],
      "metadata": {
        "id": "BSCrbKDzEr0p"
      },
      "execution_count": null,
      "outputs": []
    },
    {
      "cell_type": "code",
      "source": [
        "df.loc[df.location == \"Mexico\"]"
      ],
      "metadata": {
        "id": "p_y3B8hDRDiF",
        "colab": {
          "base_uri": "https://localhost:8080/",
          "height": 661
        },
        "outputId": "3aa65abe-31a3-49ff-aff6-155c8f405b54"
      },
      "execution_count": null,
      "outputs": [
        {
          "output_type": "execute_result",
          "data": {
            "text/plain": [
              "       iso_code      continent location        date  total_cases  new_cases  \\\n",
              "106147      MEX  North America   Mexico  2020-01-01          NaN        NaN   \n",
              "106148      MEX  North America   Mexico  2020-01-02          NaN        NaN   \n",
              "106149      MEX  North America   Mexico  2020-01-03          NaN        NaN   \n",
              "106150      MEX  North America   Mexico  2020-01-04          NaN        NaN   \n",
              "106151      MEX  North America   Mexico  2020-01-05          NaN        NaN   \n",
              "...         ...            ...      ...         ...          ...        ...   \n",
              "106990      MEX  North America   Mexico  2022-04-23    5733428.0     1793.0   \n",
              "106991      MEX  North America   Mexico  2022-04-24    5733785.0      357.0   \n",
              "106992      MEX  North America   Mexico  2022-04-25    5733925.0      140.0   \n",
              "106993      MEX  North America   Mexico  2022-04-26    5735115.0     1190.0   \n",
              "106994      MEX  North America   Mexico  2022-04-27    5736579.0     1464.0   \n",
              "\n",
              "        new_cases_smoothed  total_deaths  new_deaths  new_deaths_smoothed  \\\n",
              "106147                 NaN           NaN         NaN                  NaN   \n",
              "106148                 NaN           NaN         NaN                  NaN   \n",
              "106149                 NaN           NaN         NaN                  NaN   \n",
              "106150                 NaN           NaN         NaN                  NaN   \n",
              "106151                 NaN           NaN         NaN                  NaN   \n",
              "...                    ...           ...         ...                  ...   \n",
              "106990             965.714      324120.0        87.0               26.000   \n",
              "106991             873.857      324129.0         9.0               26.429   \n",
              "106992             893.857      324134.0         5.0               27.143   \n",
              "106993             835.000      324173.0        39.0               28.571   \n",
              "106994             859.857      324221.0        48.0               31.000   \n",
              "\n",
              "        ...  female_smokers  male_smokers  handwashing_facilities  \\\n",
              "106147  ...             6.9          21.4                  87.847   \n",
              "106148  ...             6.9          21.4                  87.847   \n",
              "106149  ...             6.9          21.4                  87.847   \n",
              "106150  ...             6.9          21.4                  87.847   \n",
              "106151  ...             6.9          21.4                  87.847   \n",
              "...     ...             ...           ...                     ...   \n",
              "106990  ...             6.9          21.4                  87.847   \n",
              "106991  ...             6.9          21.4                  87.847   \n",
              "106992  ...             6.9          21.4                  87.847   \n",
              "106993  ...             6.9          21.4                  87.847   \n",
              "106994  ...             6.9          21.4                  87.847   \n",
              "\n",
              "        hospital_beds_per_thousand  life_expectancy  human_development_index  \\\n",
              "106147                        1.38            75.05                    0.779   \n",
              "106148                        1.38            75.05                    0.779   \n",
              "106149                        1.38            75.05                    0.779   \n",
              "106150                        1.38            75.05                    0.779   \n",
              "106151                        1.38            75.05                    0.779   \n",
              "...                            ...              ...                      ...   \n",
              "106990                        1.38            75.05                    0.779   \n",
              "106991                        1.38            75.05                    0.779   \n",
              "106992                        1.38            75.05                    0.779   \n",
              "106993                        1.38            75.05                    0.779   \n",
              "106994                        1.38            75.05                    0.779   \n",
              "\n",
              "        excess_mortality_cumulative_absolute  excess_mortality_cumulative  \\\n",
              "106147                                   NaN                          NaN   \n",
              "106148                                   NaN                          NaN   \n",
              "106149                                   NaN                          NaN   \n",
              "106150                                   NaN                          NaN   \n",
              "106151                                 -78.5                        -0.47   \n",
              "...                                      ...                          ...   \n",
              "106990                                   NaN                          NaN   \n",
              "106991                                   NaN                          NaN   \n",
              "106992                                   NaN                          NaN   \n",
              "106993                                   NaN                          NaN   \n",
              "106994                                   NaN                          NaN   \n",
              "\n",
              "        excess_mortality  excess_mortality_cumulative_per_million  \n",
              "106147               NaN                                      NaN  \n",
              "106148               NaN                                      NaN  \n",
              "106149               NaN                                      NaN  \n",
              "106150               NaN                                      NaN  \n",
              "106151             -0.47                                -0.602631  \n",
              "...                  ...                                      ...  \n",
              "106990               NaN                                      NaN  \n",
              "106991               NaN                                      NaN  \n",
              "106992               NaN                                      NaN  \n",
              "106993               NaN                                      NaN  \n",
              "106994               NaN                                      NaN  \n",
              "\n",
              "[848 rows x 67 columns]"
            ],
            "text/html": [
              "\n",
              "  <div id=\"df-1fa615e1-4bb0-4a57-940d-1aca09e7a7d6\">\n",
              "    <div class=\"colab-df-container\">\n",
              "      <div>\n",
              "<style scoped>\n",
              "    .dataframe tbody tr th:only-of-type {\n",
              "        vertical-align: middle;\n",
              "    }\n",
              "\n",
              "    .dataframe tbody tr th {\n",
              "        vertical-align: top;\n",
              "    }\n",
              "\n",
              "    .dataframe thead th {\n",
              "        text-align: right;\n",
              "    }\n",
              "</style>\n",
              "<table border=\"1\" class=\"dataframe\">\n",
              "  <thead>\n",
              "    <tr style=\"text-align: right;\">\n",
              "      <th></th>\n",
              "      <th>iso_code</th>\n",
              "      <th>continent</th>\n",
              "      <th>location</th>\n",
              "      <th>date</th>\n",
              "      <th>total_cases</th>\n",
              "      <th>new_cases</th>\n",
              "      <th>new_cases_smoothed</th>\n",
              "      <th>total_deaths</th>\n",
              "      <th>new_deaths</th>\n",
              "      <th>new_deaths_smoothed</th>\n",
              "      <th>...</th>\n",
              "      <th>female_smokers</th>\n",
              "      <th>male_smokers</th>\n",
              "      <th>handwashing_facilities</th>\n",
              "      <th>hospital_beds_per_thousand</th>\n",
              "      <th>life_expectancy</th>\n",
              "      <th>human_development_index</th>\n",
              "      <th>excess_mortality_cumulative_absolute</th>\n",
              "      <th>excess_mortality_cumulative</th>\n",
              "      <th>excess_mortality</th>\n",
              "      <th>excess_mortality_cumulative_per_million</th>\n",
              "    </tr>\n",
              "  </thead>\n",
              "  <tbody>\n",
              "    <tr>\n",
              "      <th>106147</th>\n",
              "      <td>MEX</td>\n",
              "      <td>North America</td>\n",
              "      <td>Mexico</td>\n",
              "      <td>2020-01-01</td>\n",
              "      <td>NaN</td>\n",
              "      <td>NaN</td>\n",
              "      <td>NaN</td>\n",
              "      <td>NaN</td>\n",
              "      <td>NaN</td>\n",
              "      <td>NaN</td>\n",
              "      <td>...</td>\n",
              "      <td>6.9</td>\n",
              "      <td>21.4</td>\n",
              "      <td>87.847</td>\n",
              "      <td>1.38</td>\n",
              "      <td>75.05</td>\n",
              "      <td>0.779</td>\n",
              "      <td>NaN</td>\n",
              "      <td>NaN</td>\n",
              "      <td>NaN</td>\n",
              "      <td>NaN</td>\n",
              "    </tr>\n",
              "    <tr>\n",
              "      <th>106148</th>\n",
              "      <td>MEX</td>\n",
              "      <td>North America</td>\n",
              "      <td>Mexico</td>\n",
              "      <td>2020-01-02</td>\n",
              "      <td>NaN</td>\n",
              "      <td>NaN</td>\n",
              "      <td>NaN</td>\n",
              "      <td>NaN</td>\n",
              "      <td>NaN</td>\n",
              "      <td>NaN</td>\n",
              "      <td>...</td>\n",
              "      <td>6.9</td>\n",
              "      <td>21.4</td>\n",
              "      <td>87.847</td>\n",
              "      <td>1.38</td>\n",
              "      <td>75.05</td>\n",
              "      <td>0.779</td>\n",
              "      <td>NaN</td>\n",
              "      <td>NaN</td>\n",
              "      <td>NaN</td>\n",
              "      <td>NaN</td>\n",
              "    </tr>\n",
              "    <tr>\n",
              "      <th>106149</th>\n",
              "      <td>MEX</td>\n",
              "      <td>North America</td>\n",
              "      <td>Mexico</td>\n",
              "      <td>2020-01-03</td>\n",
              "      <td>NaN</td>\n",
              "      <td>NaN</td>\n",
              "      <td>NaN</td>\n",
              "      <td>NaN</td>\n",
              "      <td>NaN</td>\n",
              "      <td>NaN</td>\n",
              "      <td>...</td>\n",
              "      <td>6.9</td>\n",
              "      <td>21.4</td>\n",
              "      <td>87.847</td>\n",
              "      <td>1.38</td>\n",
              "      <td>75.05</td>\n",
              "      <td>0.779</td>\n",
              "      <td>NaN</td>\n",
              "      <td>NaN</td>\n",
              "      <td>NaN</td>\n",
              "      <td>NaN</td>\n",
              "    </tr>\n",
              "    <tr>\n",
              "      <th>106150</th>\n",
              "      <td>MEX</td>\n",
              "      <td>North America</td>\n",
              "      <td>Mexico</td>\n",
              "      <td>2020-01-04</td>\n",
              "      <td>NaN</td>\n",
              "      <td>NaN</td>\n",
              "      <td>NaN</td>\n",
              "      <td>NaN</td>\n",
              "      <td>NaN</td>\n",
              "      <td>NaN</td>\n",
              "      <td>...</td>\n",
              "      <td>6.9</td>\n",
              "      <td>21.4</td>\n",
              "      <td>87.847</td>\n",
              "      <td>1.38</td>\n",
              "      <td>75.05</td>\n",
              "      <td>0.779</td>\n",
              "      <td>NaN</td>\n",
              "      <td>NaN</td>\n",
              "      <td>NaN</td>\n",
              "      <td>NaN</td>\n",
              "    </tr>\n",
              "    <tr>\n",
              "      <th>106151</th>\n",
              "      <td>MEX</td>\n",
              "      <td>North America</td>\n",
              "      <td>Mexico</td>\n",
              "      <td>2020-01-05</td>\n",
              "      <td>NaN</td>\n",
              "      <td>NaN</td>\n",
              "      <td>NaN</td>\n",
              "      <td>NaN</td>\n",
              "      <td>NaN</td>\n",
              "      <td>NaN</td>\n",
              "      <td>...</td>\n",
              "      <td>6.9</td>\n",
              "      <td>21.4</td>\n",
              "      <td>87.847</td>\n",
              "      <td>1.38</td>\n",
              "      <td>75.05</td>\n",
              "      <td>0.779</td>\n",
              "      <td>-78.5</td>\n",
              "      <td>-0.47</td>\n",
              "      <td>-0.47</td>\n",
              "      <td>-0.602631</td>\n",
              "    </tr>\n",
              "    <tr>\n",
              "      <th>...</th>\n",
              "      <td>...</td>\n",
              "      <td>...</td>\n",
              "      <td>...</td>\n",
              "      <td>...</td>\n",
              "      <td>...</td>\n",
              "      <td>...</td>\n",
              "      <td>...</td>\n",
              "      <td>...</td>\n",
              "      <td>...</td>\n",
              "      <td>...</td>\n",
              "      <td>...</td>\n",
              "      <td>...</td>\n",
              "      <td>...</td>\n",
              "      <td>...</td>\n",
              "      <td>...</td>\n",
              "      <td>...</td>\n",
              "      <td>...</td>\n",
              "      <td>...</td>\n",
              "      <td>...</td>\n",
              "      <td>...</td>\n",
              "      <td>...</td>\n",
              "    </tr>\n",
              "    <tr>\n",
              "      <th>106990</th>\n",
              "      <td>MEX</td>\n",
              "      <td>North America</td>\n",
              "      <td>Mexico</td>\n",
              "      <td>2022-04-23</td>\n",
              "      <td>5733428.0</td>\n",
              "      <td>1793.0</td>\n",
              "      <td>965.714</td>\n",
              "      <td>324120.0</td>\n",
              "      <td>87.0</td>\n",
              "      <td>26.000</td>\n",
              "      <td>...</td>\n",
              "      <td>6.9</td>\n",
              "      <td>21.4</td>\n",
              "      <td>87.847</td>\n",
              "      <td>1.38</td>\n",
              "      <td>75.05</td>\n",
              "      <td>0.779</td>\n",
              "      <td>NaN</td>\n",
              "      <td>NaN</td>\n",
              "      <td>NaN</td>\n",
              "      <td>NaN</td>\n",
              "    </tr>\n",
              "    <tr>\n",
              "      <th>106991</th>\n",
              "      <td>MEX</td>\n",
              "      <td>North America</td>\n",
              "      <td>Mexico</td>\n",
              "      <td>2022-04-24</td>\n",
              "      <td>5733785.0</td>\n",
              "      <td>357.0</td>\n",
              "      <td>873.857</td>\n",
              "      <td>324129.0</td>\n",
              "      <td>9.0</td>\n",
              "      <td>26.429</td>\n",
              "      <td>...</td>\n",
              "      <td>6.9</td>\n",
              "      <td>21.4</td>\n",
              "      <td>87.847</td>\n",
              "      <td>1.38</td>\n",
              "      <td>75.05</td>\n",
              "      <td>0.779</td>\n",
              "      <td>NaN</td>\n",
              "      <td>NaN</td>\n",
              "      <td>NaN</td>\n",
              "      <td>NaN</td>\n",
              "    </tr>\n",
              "    <tr>\n",
              "      <th>106992</th>\n",
              "      <td>MEX</td>\n",
              "      <td>North America</td>\n",
              "      <td>Mexico</td>\n",
              "      <td>2022-04-25</td>\n",
              "      <td>5733925.0</td>\n",
              "      <td>140.0</td>\n",
              "      <td>893.857</td>\n",
              "      <td>324134.0</td>\n",
              "      <td>5.0</td>\n",
              "      <td>27.143</td>\n",
              "      <td>...</td>\n",
              "      <td>6.9</td>\n",
              "      <td>21.4</td>\n",
              "      <td>87.847</td>\n",
              "      <td>1.38</td>\n",
              "      <td>75.05</td>\n",
              "      <td>0.779</td>\n",
              "      <td>NaN</td>\n",
              "      <td>NaN</td>\n",
              "      <td>NaN</td>\n",
              "      <td>NaN</td>\n",
              "    </tr>\n",
              "    <tr>\n",
              "      <th>106993</th>\n",
              "      <td>MEX</td>\n",
              "      <td>North America</td>\n",
              "      <td>Mexico</td>\n",
              "      <td>2022-04-26</td>\n",
              "      <td>5735115.0</td>\n",
              "      <td>1190.0</td>\n",
              "      <td>835.000</td>\n",
              "      <td>324173.0</td>\n",
              "      <td>39.0</td>\n",
              "      <td>28.571</td>\n",
              "      <td>...</td>\n",
              "      <td>6.9</td>\n",
              "      <td>21.4</td>\n",
              "      <td>87.847</td>\n",
              "      <td>1.38</td>\n",
              "      <td>75.05</td>\n",
              "      <td>0.779</td>\n",
              "      <td>NaN</td>\n",
              "      <td>NaN</td>\n",
              "      <td>NaN</td>\n",
              "      <td>NaN</td>\n",
              "    </tr>\n",
              "    <tr>\n",
              "      <th>106994</th>\n",
              "      <td>MEX</td>\n",
              "      <td>North America</td>\n",
              "      <td>Mexico</td>\n",
              "      <td>2022-04-27</td>\n",
              "      <td>5736579.0</td>\n",
              "      <td>1464.0</td>\n",
              "      <td>859.857</td>\n",
              "      <td>324221.0</td>\n",
              "      <td>48.0</td>\n",
              "      <td>31.000</td>\n",
              "      <td>...</td>\n",
              "      <td>6.9</td>\n",
              "      <td>21.4</td>\n",
              "      <td>87.847</td>\n",
              "      <td>1.38</td>\n",
              "      <td>75.05</td>\n",
              "      <td>0.779</td>\n",
              "      <td>NaN</td>\n",
              "      <td>NaN</td>\n",
              "      <td>NaN</td>\n",
              "      <td>NaN</td>\n",
              "    </tr>\n",
              "  </tbody>\n",
              "</table>\n",
              "<p>848 rows × 67 columns</p>\n",
              "</div>\n",
              "      <button class=\"colab-df-convert\" onclick=\"convertToInteractive('df-1fa615e1-4bb0-4a57-940d-1aca09e7a7d6')\"\n",
              "              title=\"Convert this dataframe to an interactive table.\"\n",
              "              style=\"display:none;\">\n",
              "        \n",
              "  <svg xmlns=\"http://www.w3.org/2000/svg\" height=\"24px\"viewBox=\"0 0 24 24\"\n",
              "       width=\"24px\">\n",
              "    <path d=\"M0 0h24v24H0V0z\" fill=\"none\"/>\n",
              "    <path d=\"M18.56 5.44l.94 2.06.94-2.06 2.06-.94-2.06-.94-.94-2.06-.94 2.06-2.06.94zm-11 1L8.5 8.5l.94-2.06 2.06-.94-2.06-.94L8.5 2.5l-.94 2.06-2.06.94zm10 10l.94 2.06.94-2.06 2.06-.94-2.06-.94-.94-2.06-.94 2.06-2.06.94z\"/><path d=\"M17.41 7.96l-1.37-1.37c-.4-.4-.92-.59-1.43-.59-.52 0-1.04.2-1.43.59L10.3 9.45l-7.72 7.72c-.78.78-.78 2.05 0 2.83L4 21.41c.39.39.9.59 1.41.59.51 0 1.02-.2 1.41-.59l7.78-7.78 2.81-2.81c.8-.78.8-2.07 0-2.86zM5.41 20L4 18.59l7.72-7.72 1.47 1.35L5.41 20z\"/>\n",
              "  </svg>\n",
              "      </button>\n",
              "      \n",
              "  <style>\n",
              "    .colab-df-container {\n",
              "      display:flex;\n",
              "      flex-wrap:wrap;\n",
              "      gap: 12px;\n",
              "    }\n",
              "\n",
              "    .colab-df-convert {\n",
              "      background-color: #E8F0FE;\n",
              "      border: none;\n",
              "      border-radius: 50%;\n",
              "      cursor: pointer;\n",
              "      display: none;\n",
              "      fill: #1967D2;\n",
              "      height: 32px;\n",
              "      padding: 0 0 0 0;\n",
              "      width: 32px;\n",
              "    }\n",
              "\n",
              "    .colab-df-convert:hover {\n",
              "      background-color: #E2EBFA;\n",
              "      box-shadow: 0px 1px 2px rgba(60, 64, 67, 0.3), 0px 1px 3px 1px rgba(60, 64, 67, 0.15);\n",
              "      fill: #174EA6;\n",
              "    }\n",
              "\n",
              "    [theme=dark] .colab-df-convert {\n",
              "      background-color: #3B4455;\n",
              "      fill: #D2E3FC;\n",
              "    }\n",
              "\n",
              "    [theme=dark] .colab-df-convert:hover {\n",
              "      background-color: #434B5C;\n",
              "      box-shadow: 0px 1px 3px 1px rgba(0, 0, 0, 0.15);\n",
              "      filter: drop-shadow(0px 1px 2px rgba(0, 0, 0, 0.3));\n",
              "      fill: #FFFFFF;\n",
              "    }\n",
              "  </style>\n",
              "\n",
              "      <script>\n",
              "        const buttonEl =\n",
              "          document.querySelector('#df-1fa615e1-4bb0-4a57-940d-1aca09e7a7d6 button.colab-df-convert');\n",
              "        buttonEl.style.display =\n",
              "          google.colab.kernel.accessAllowed ? 'block' : 'none';\n",
              "\n",
              "        async function convertToInteractive(key) {\n",
              "          const element = document.querySelector('#df-1fa615e1-4bb0-4a57-940d-1aca09e7a7d6');\n",
              "          const dataTable =\n",
              "            await google.colab.kernel.invokeFunction('convertToInteractive',\n",
              "                                                     [key], {});\n",
              "          if (!dataTable) return;\n",
              "\n",
              "          const docLinkHtml = 'Like what you see? Visit the ' +\n",
              "            '<a target=\"_blank\" href=https://colab.research.google.com/notebooks/data_table.ipynb>data table notebook</a>'\n",
              "            + ' to learn more about interactive tables.';\n",
              "          element.innerHTML = '';\n",
              "          dataTable['output_type'] = 'display_data';\n",
              "          await google.colab.output.renderOutput(dataTable, element);\n",
              "          const docLink = document.createElement('div');\n",
              "          docLink.innerHTML = docLinkHtml;\n",
              "          element.appendChild(docLink);\n",
              "        }\n",
              "      </script>\n",
              "    </div>\n",
              "  </div>\n",
              "  "
            ]
          },
          "metadata": {},
          "execution_count": 3
        }
      ]
    },
    {
      "cell_type": "markdown",
      "source": [
        "**Add idenpendent variable**"
      ],
      "metadata": {
        "id": "k41d0Wjh0Sfc"
      }
    },
    {
      "cell_type": "markdown",
      "source": [
        "Add a column for the days since the beginning of the data capture. This will serve as the independent variable for our regression."
      ],
      "metadata": {
        "id": "xEXq39kvsi_b"
      }
    },
    {
      "cell_type": "code",
      "source": [
        "df_filtered['days'] = df_filtered.reset_index().index.astype(np.float64)"
      ],
      "metadata": {
        "id": "OetyzeRbnZXs"
      },
      "execution_count": null,
      "outputs": []
    },
    {
      "cell_type": "markdown",
      "source": [
        "**Remove non-smoothed data**"
      ],
      "metadata": {
        "id": "s48-4u_QtvbE"
      }
    },
    {
      "cell_type": "markdown",
      "source": [
        "In this section we show an example of two columns that represent the same variable. However, one of the columns is a smoothed out version of the other. We decided to keep the smoothed version as it captures the underlying trend of the data and it filters out a lot of the noise."
      ],
      "metadata": {
        "id": "TxjRIV92uCE5"
      }
    },
    {
      "cell_type": "code",
      "source": [
        "# Plot new cases vs new cases smoothed\n",
        "ax = df_filtered[[\"days\", \"new_cases\", \"new_cases_smoothed\"]].plot(x=\"days\", grid=True, title='Smoothed vs non-smoothed data')"
      ],
      "metadata": {
        "id": "KBni-pHPuBob",
        "colab": {
          "base_uri": "https://localhost:8080/",
          "height": 295
        },
        "outputId": "4a9f89e8-3ca8-4be1-f14c-e6fc453f3b77"
      },
      "execution_count": null,
      "outputs": [
        {
          "output_type": "display_data",
          "data": {
            "text/plain": [
              "<Figure size 432x288 with 1 Axes>"
            ],
            "image/png": "[encoded data removed]"
          },
          "metadata": {
            "needs_background": "light"
          }
        }
      ]
    },
    {
      "cell_type": "code",
      "source": [
        "non_smoothed_data = ['new_cases','new_deaths','new_tests','new_cases_per_million','new_deaths_per_million','new_tests_per_thousand','new_vaccinations']\n",
        "df_filtered       = df_filtered.drop(columns=non_smoothed_data)"
      ],
      "metadata": {
        "id": "gI4RfYcK0AA5"
      },
      "execution_count": null,
      "outputs": []
    },
    {
      "cell_type": "markdown",
      "source": [
        "**Interpolate data with missing values**"
      ],
      "metadata": {
        "id": "2OcItJpCzxSo"
      }
    },
    {
      "cell_type": "markdown",
      "source": [
        "In some cases, data presents missing values that can be easily interpolated. Below there are a few examples."
      ],
      "metadata": {
        "id": "WW4W1ywNz1Wo"
      }
    },
    {
      "cell_type": "code",
      "source": [
        "# Example of missing values\n",
        "df_filtered[[\"days\", \"total_vaccinations_per_hundred\", \"people_vaccinated_per_hundred\", \"people_fully_vaccinated_per_hundred\"]].plot(x=\"days\", grid=True, title='Missing values in data')"
      ],
      "metadata": {
        "id": "sHWBYIKMyGA7",
        "colab": {
          "base_uri": "https://localhost:8080/",
          "height": 312
        },
        "outputId": "4160fcb8-d918-4645-a055-57f0a1958eb6"
      },
      "execution_count": null,
      "outputs": [
        {
          "output_type": "execute_result",
          "data": {
            "text/plain": [
              "<matplotlib.axes._subplots.AxesSubplot at 0x7f402120e090>"
            ]
          },
          "metadata": {},
          "execution_count": 7
        },
        {
          "output_type": "display_data",
          "data": {
            "text/plain": [
              "<Figure size 432x288 with 1 Axes>"
            ],
            "image/png": "[encoded data removed]"
          },
          "metadata": {
            "needs_background": "light"
          }
        }
      ]
    },
    {
      "cell_type": "code",
      "source": [
        "# Apply interpolation\n",
        "df_filtered2 = df_filtered.interpolate()\n",
        "\n",
        "# Remove negative values which are an artifact of the interpolation process\n",
        "column_names              = list(df_filtered2.columns.values)\n",
        "valid_negative_value_cols = ['excess_mortality_cumulative_absolute','excess_mortality_cumulative','excess_mortality','excess_mortality_cumulative_per_million']\n",
        "\n",
        "non_negative_cols               = list(set(column_names) - set(valid_negative_value_cols))\n",
        "df_filtered2[non_negative_cols] = df_filtered2[non_negative_cols].clip(lower=0)"
      ],
      "metadata": {
        "id": "R3dLMm0OAe7T"
      },
      "execution_count": null,
      "outputs": []
    },
    {
      "cell_type": "code",
      "source": [
        "# Show the results of the interpolation\n",
        "df_filtered2[[\"days\", \"total_vaccinations_per_hundred\", \"people_vaccinated_per_hundred\", \"people_fully_vaccinated_per_hundred\"]].plot(x=\"days\", grid=True, title='Interpolated data')"
      ],
      "metadata": {
        "id": "2nboWmG0LrRn",
        "colab": {
          "base_uri": "https://localhost:8080/",
          "height": 312
        },
        "outputId": "93a990d1-10fb-4085-f048-9891b466996c"
      },
      "execution_count": null,
      "outputs": [
        {
          "output_type": "execute_result",
          "data": {
            "text/plain": [
              "<matplotlib.axes._subplots.AxesSubplot at 0x7f4020d09e90>"
            ]
          },
          "metadata": {},
          "execution_count": 9
        },
        {
          "output_type": "display_data",
          "data": {
            "text/plain": [
              "<Figure size 432x288 with 1 Axes>"
            ],
            "image/png": "[encoded data removed]"
          },
          "metadata": {
            "needs_background": "light"
          }
        }
      ]
    },
    {
      "cell_type": "markdown",
      "source": [
        "**Replace missing values with zeros**"
      ],
      "metadata": {
        "id": "2UjTkcJv02md"
      }
    },
    {
      "cell_type": "markdown",
      "source": [
        "The interpolation settings chosen didn't interpolate missing values at the beginning of the data. Instead of interpolating missing values at the beginning of the data we replace it with zeros. Features such as \"total_cases\" have missing values in the beginning since there were no infections during the first months."
      ],
      "metadata": {
        "id": "B-8_wJA006ji"
      }
    },
    {
      "cell_type": "code",
      "source": [
        "# Example of missing data at the beginning of the data\n",
        "df_filtered2[[\"days\", \"total_deaths\"]].plot(x=\"days\", grid=True, title='Missing values in data')"
      ],
      "metadata": {
        "id": "UV8_bsbPvlWu",
        "colab": {
          "base_uri": "https://localhost:8080/",
          "height": 312
        },
        "outputId": "51988f43-d51d-4d74-fb53-9768033a0d1c"
      },
      "execution_count": null,
      "outputs": [
        {
          "output_type": "execute_result",
          "data": {
            "text/plain": [
              "<matplotlib.axes._subplots.AxesSubplot at 0x7f4020c2a450>"
            ]
          },
          "metadata": {},
          "execution_count": 10
        },
        {
          "output_type": "display_data",
          "data": {
            "text/plain": [
              "<Figure size 432x288 with 1 Axes>"
            ],
            "image/png": "[encoded data removed]"
          },
          "metadata": {
            "needs_background": "light"
          }
        }
      ]
    },
    {
      "cell_type": "code",
      "source": [
        "df_filtered2 = df_filtered2.fillna(0)"
      ],
      "metadata": {
        "id": "l67DtS_ML4iY"
      },
      "execution_count": null,
      "outputs": []
    },
    {
      "cell_type": "code",
      "source": [
        "# Result after filling the missing data with zeros\n",
        "df_filtered2[[\"days\", \"total_cases\"]].plot(x=\"days\", grid=True, title='Missing values replaced with zeros')"
      ],
      "metadata": {
        "id": "J--AoE9SMIh_",
        "colab": {
          "base_uri": "https://localhost:8080/",
          "height": 312
        },
        "outputId": "0de5bb83-7a02-437c-88cd-17208580ba1a"
      },
      "execution_count": null,
      "outputs": [
        {
          "output_type": "execute_result",
          "data": {
            "text/plain": [
              "<matplotlib.axes._subplots.AxesSubplot at 0x7f4020ba8690>"
            ]
          },
          "metadata": {},
          "execution_count": 12
        },
        {
          "output_type": "display_data",
          "data": {
            "text/plain": [
              "<Figure size 432x288 with 1 Axes>"
            ],
            "image/png": "[encoded data removed]"
          },
          "metadata": {
            "needs_background": "light"
          }
        }
      ]
    },
    {
      "cell_type": "markdown",
      "source": [
        "**Feature normalization**"
      ],
      "metadata": {
        "id": "QcEv7qXLMeOx"
      }
    },
    {
      "cell_type": "markdown",
      "source": [
        "To avoid issues during the model fitting stage due to the different scales of the features, we apply a normalization to all of them."
      ],
      "metadata": {
        "id": "-VLoD4KaMpzL"
      }
    },
    {
      "cell_type": "code",
      "source": [
        "sc = StandardScaler()\n",
        "\n",
        "# Apply data standarization to all of the filtered data\n",
        "X  = sc.fit_transform(df_filtered2)\n",
        "\n",
        "# Rebuild the dataframe\n",
        "columns               = { i : column_names[i] for i in range( len( column_names ) ) }\n",
        "df_normalized         = pd.DataFrame(X).rename(columns = columns)\n",
        "\n",
        "# Rebuild the days column (QUESTION: Should we normalize the day vector?)\n",
        "# df_normalized['days'] = df_normalized.reset_index().index.astype(np.float64)"
      ],
      "metadata": {
        "id": "DqPlWcSJMX7m"
      },
      "execution_count": null,
      "outputs": []
    },
    {
      "cell_type": "code",
      "source": [
        "df_filtered2.head()"
      ],
      "metadata": {
        "id": "mFYzbO8xP6ol",
        "colab": {
          "base_uri": "https://localhost:8080/",
          "height": 299
        },
        "outputId": "2810851d-2065-41c4-ed90-63d7c7daeb08"
      },
      "execution_count": null,
      "outputs": [
        {
          "output_type": "execute_result",
          "data": {
            "text/plain": [
              "        total_cases  new_cases_smoothed  total_deaths  new_deaths_smoothed  \\\n",
              "106147          0.0                 0.0           0.0                  0.0   \n",
              "106148          0.0                 0.0           0.0                  0.0   \n",
              "106149          0.0                 0.0           0.0                  0.0   \n",
              "106150          0.0                 0.0           0.0                  0.0   \n",
              "106151          0.0                 0.0           0.0                  0.0   \n",
              "\n",
              "        total_cases_per_million  new_cases_smoothed_per_million  \\\n",
              "106147                      0.0                             0.0   \n",
              "106148                      0.0                             0.0   \n",
              "106149                      0.0                             0.0   \n",
              "106150                      0.0                             0.0   \n",
              "106151                      0.0                             0.0   \n",
              "\n",
              "        total_deaths_per_million  new_deaths_smoothed_per_million  \\\n",
              "106147                       0.0                              0.0   \n",
              "106148                       0.0                              0.0   \n",
              "106149                       0.0                              0.0   \n",
              "106150                       0.0                              0.0   \n",
              "106151                       0.0                              0.0   \n",
              "\n",
              "        reproduction_rate  total_tests  ...  male_smokers  \\\n",
              "106147                0.0         25.0  ...          21.4   \n",
              "106148                0.0         97.0  ...          21.4   \n",
              "106149                0.0        186.0  ...          21.4   \n",
              "106150                0.0        231.0  ...          21.4   \n",
              "106151                0.0        312.0  ...          21.4   \n",
              "\n",
              "        handwashing_facilities  hospital_beds_per_thousand  life_expectancy  \\\n",
              "106147                  87.847                        1.38            75.05   \n",
              "106148                  87.847                        1.38            75.05   \n",
              "106149                  87.847                        1.38            75.05   \n",
              "106150                  87.847                        1.38            75.05   \n",
              "106151                  87.847                        1.38            75.05   \n",
              "\n",
              "        human_development_index  excess_mortality_cumulative_absolute  \\\n",
              "106147                    0.779                                   0.0   \n",
              "106148                    0.779                                   0.0   \n",
              "106149                    0.779                                   0.0   \n",
              "106150                    0.779                                   0.0   \n",
              "106151                    0.779                                 -78.5   \n",
              "\n",
              "        excess_mortality_cumulative  excess_mortality  \\\n",
              "106147                         0.00              0.00   \n",
              "106148                         0.00              0.00   \n",
              "106149                         0.00              0.00   \n",
              "106150                         0.00              0.00   \n",
              "106151                        -0.47             -0.47   \n",
              "\n",
              "        excess_mortality_cumulative_per_million  days  \n",
              "106147                                 0.000000   0.0  \n",
              "106148                                 0.000000   1.0  \n",
              "106149                                 0.000000   2.0  \n",
              "106150                                 0.000000   3.0  \n",
              "106151                                -0.602631   4.0  \n",
              "\n",
              "[5 rows x 48 columns]"
            ],
            "text/html": [
              "\n",
              "  <div id=\"df-bae32ab9-5b90-4225-8922-a59e7fa8a981\">\n",
              "    <div class=\"colab-df-container\">\n",
              "      <div>\n",
              "<style scoped>\n",
              "    .dataframe tbody tr th:only-of-type {\n",
              "        vertical-align: middle;\n",
              "    }\n",
              "\n",
              "    .dataframe tbody tr th {\n",
              "        vertical-align: top;\n",
              "    }\n",
              "\n",
              "    .dataframe thead th {\n",
              "        text-align: right;\n",
              "    }\n",
              "</style>\n",
              "<table border=\"1\" class=\"dataframe\">\n",
              "  <thead>\n",
              "    <tr style=\"text-align: right;\">\n",
              "      <th></th>\n",
              "      <th>total_cases</th>\n",
              "      <th>new_cases_smoothed</th>\n",
              "      <th>total_deaths</th>\n",
              "      <th>new_deaths_smoothed</th>\n",
              "      <th>total_cases_per_million</th>\n",
              "      <th>new_cases_smoothed_per_million</th>\n",
              "      <th>total_deaths_per_million</th>\n",
              "      <th>new_deaths_smoothed_per_million</th>\n",
              "      <th>reproduction_rate</th>\n",
              "      <th>total_tests</th>\n",
              "      <th>...</th>\n",
              "      <th>male_smokers</th>\n",
              "      <th>handwashing_facilities</th>\n",
              "      <th>hospital_beds_per_thousand</th>\n",
              "      <th>life_expectancy</th>\n",
              "      <th>human_development_index</th>\n",
              "      <th>excess_mortality_cumulative_absolute</th>\n",
              "      <th>excess_mortality_cumulative</th>\n",
              "      <th>excess_mortality</th>\n",
              "      <th>excess_mortality_cumulative_per_million</th>\n",
              "      <th>days</th>\n",
              "    </tr>\n",
              "  </thead>\n",
              "  <tbody>\n",
              "    <tr>\n",
              "      <th>106147</th>\n",
              "      <td>0.0</td>\n",
              "      <td>0.0</td>\n",
              "      <td>0.0</td>\n",
              "      <td>0.0</td>\n",
              "      <td>0.0</td>\n",
              "      <td>0.0</td>\n",
              "      <td>0.0</td>\n",
              "      <td>0.0</td>\n",
              "      <td>0.0</td>\n",
              "      <td>25.0</td>\n",
              "      <td>...</td>\n",
              "      <td>21.4</td>\n",
              "      <td>87.847</td>\n",
              "      <td>1.38</td>\n",
              "      <td>75.05</td>\n",
              "      <td>0.779</td>\n",
              "      <td>0.0</td>\n",
              "      <td>0.00</td>\n",
              "      <td>0.00</td>\n",
              "      <td>0.000000</td>\n",
              "      <td>0.0</td>\n",
              "    </tr>\n",
              "    <tr>\n",
              "      <th>106148</th>\n",
              "      <td>0.0</td>\n",
              "      <td>0.0</td>\n",
              "      <td>0.0</td>\n",
              "      <td>0.0</td>\n",
              "      <td>0.0</td>\n",
              "      <td>0.0</td>\n",
              "      <td>0.0</td>\n",
              "      <td>0.0</td>\n",
              "      <td>0.0</td>\n",
              "      <td>97.0</td>\n",
              "      <td>...</td>\n",
              "      <td>21.4</td>\n",
              "      <td>87.847</td>\n",
              "      <td>1.38</td>\n",
              "      <td>75.05</td>\n",
              "      <td>0.779</td>\n",
              "      <td>0.0</td>\n",
              "      <td>0.00</td>\n",
              "      <td>0.00</td>\n",
              "      <td>0.000000</td>\n",
              "      <td>1.0</td>\n",
              "    </tr>\n",
              "    <tr>\n",
              "      <th>106149</th>\n",
              "      <td>0.0</td>\n",
              "      <td>0.0</td>\n",
              "      <td>0.0</td>\n",
              "      <td>0.0</td>\n",
              "      <td>0.0</td>\n",
              "      <td>0.0</td>\n",
              "      <td>0.0</td>\n",
              "      <td>0.0</td>\n",
              "      <td>0.0</td>\n",
              "      <td>186.0</td>\n",
              "      <td>...</td>\n",
              "      <td>21.4</td>\n",
              "      <td>87.847</td>\n",
              "      <td>1.38</td>\n",
              "      <td>75.05</td>\n",
              "      <td>0.779</td>\n",
              "      <td>0.0</td>\n",
              "      <td>0.00</td>\n",
              "      <td>0.00</td>\n",
              "      <td>0.000000</td>\n",
              "      <td>2.0</td>\n",
              "    </tr>\n",
              "    <tr>\n",
              "      <th>106150</th>\n",
              "      <td>0.0</td>\n",
              "      <td>0.0</td>\n",
              "      <td>0.0</td>\n",
              "      <td>0.0</td>\n",
              "      <td>0.0</td>\n",
              "      <td>0.0</td>\n",
              "      <td>0.0</td>\n",
              "      <td>0.0</td>\n",
              "      <td>0.0</td>\n",
              "      <td>231.0</td>\n",
              "      <td>...</td>\n",
              "      <td>21.4</td>\n",
              "      <td>87.847</td>\n",
              "      <td>1.38</td>\n",
              "      <td>75.05</td>\n",
              "      <td>0.779</td>\n",
              "      <td>0.0</td>\n",
              "      <td>0.00</td>\n",
              "      <td>0.00</td>\n",
              "      <td>0.000000</td>\n",
              "      <td>3.0</td>\n",
              "    </tr>\n",
              "    <tr>\n",
              "      <th>106151</th>\n",
              "      <td>0.0</td>\n",
              "      <td>0.0</td>\n",
              "      <td>0.0</td>\n",
              "      <td>0.0</td>\n",
              "      <td>0.0</td>\n",
              "      <td>0.0</td>\n",
              "      <td>0.0</td>\n",
              "      <td>0.0</td>\n",
              "      <td>0.0</td>\n",
              "      <td>312.0</td>\n",
              "      <td>...</td>\n",
              "      <td>21.4</td>\n",
              "      <td>87.847</td>\n",
              "      <td>1.38</td>\n",
              "      <td>75.05</td>\n",
              "      <td>0.779</td>\n",
              "      <td>-78.5</td>\n",
              "      <td>-0.47</td>\n",
              "      <td>-0.47</td>\n",
              "      <td>-0.602631</td>\n",
              "      <td>4.0</td>\n",
              "    </tr>\n",
              "  </tbody>\n",
              "</table>\n",
              "<p>5 rows × 48 columns</p>\n",
              "</div>\n",
              "      <button class=\"colab-df-convert\" onclick=\"convertToInteractive('df-bae32ab9-5b90-4225-8922-a59e7fa8a981')\"\n",
              "              title=\"Convert this dataframe to an interactive table.\"\n",
              "              style=\"display:none;\">\n",
              "        \n",
              "  <svg xmlns=\"http://www.w3.org/2000/svg\" height=\"24px\"viewBox=\"0 0 24 24\"\n",
              "       width=\"24px\">\n",
              "    <path d=\"M0 0h24v24H0V0z\" fill=\"none\"/>\n",
              "    <path d=\"M18.56 5.44l.94 2.06.94-2.06 2.06-.94-2.06-.94-.94-2.06-.94 2.06-2.06.94zm-11 1L8.5 8.5l.94-2.06 2.06-.94-2.06-.94L8.5 2.5l-.94 2.06-2.06.94zm10 10l.94 2.06.94-2.06 2.06-.94-2.06-.94-.94-2.06-.94 2.06-2.06.94z\"/><path d=\"M17.41 7.96l-1.37-1.37c-.4-.4-.92-.59-1.43-.59-.52 0-1.04.2-1.43.59L10.3 9.45l-7.72 7.72c-.78.78-.78 2.05 0 2.83L4 21.41c.39.39.9.59 1.41.59.51 0 1.02-.2 1.41-.59l7.78-7.78 2.81-2.81c.8-.78.8-2.07 0-2.86zM5.41 20L4 18.59l7.72-7.72 1.47 1.35L5.41 20z\"/>\n",
              "  </svg>\n",
              "      </button>\n",
              "      \n",
              "  <style>\n",
              "    .colab-df-container {\n",
              "      display:flex;\n",
              "      flex-wrap:wrap;\n",
              "      gap: 12px;\n",
              "    }\n",
              "\n",
              "    .colab-df-convert {\n",
              "      background-color: #E8F0FE;\n",
              "      border: none;\n",
              "      border-radius: 50%;\n",
              "      cursor: pointer;\n",
              "      display: none;\n",
              "      fill: #1967D2;\n",
              "      height: 32px;\n",
              "      padding: 0 0 0 0;\n",
              "      width: 32px;\n",
              "    }\n",
              "\n",
              "    .colab-df-convert:hover {\n",
              "      background-color: #E2EBFA;\n",
              "      box-shadow: 0px 1px 2px rgba(60, 64, 67, 0.3), 0px 1px 3px 1px rgba(60, 64, 67, 0.15);\n",
              "      fill: #174EA6;\n",
              "    }\n",
              "\n",
              "    [theme=dark] .colab-df-convert {\n",
              "      background-color: #3B4455;\n",
              "      fill: #D2E3FC;\n",
              "    }\n",
              "\n",
              "    [theme=dark] .colab-df-convert:hover {\n",
              "      background-color: #434B5C;\n",
              "      box-shadow: 0px 1px 3px 1px rgba(0, 0, 0, 0.15);\n",
              "      filter: drop-shadow(0px 1px 2px rgba(0, 0, 0, 0.3));\n",
              "      fill: #FFFFFF;\n",
              "    }\n",
              "  </style>\n",
              "\n",
              "      <script>\n",
              "        const buttonEl =\n",
              "          document.querySelector('#df-bae32ab9-5b90-4225-8922-a59e7fa8a981 button.colab-df-convert');\n",
              "        buttonEl.style.display =\n",
              "          google.colab.kernel.accessAllowed ? 'block' : 'none';\n",
              "\n",
              "        async function convertToInteractive(key) {\n",
              "          const element = document.querySelector('#df-bae32ab9-5b90-4225-8922-a59e7fa8a981');\n",
              "          const dataTable =\n",
              "            await google.colab.kernel.invokeFunction('convertToInteractive',\n",
              "                                                     [key], {});\n",
              "          if (!dataTable) return;\n",
              "\n",
              "          const docLinkHtml = 'Like what you see? Visit the ' +\n",
              "            '<a target=\"_blank\" href=https://colab.research.google.com/notebooks/data_table.ipynb>data table notebook</a>'\n",
              "            + ' to learn more about interactive tables.';\n",
              "          element.innerHTML = '';\n",
              "          dataTable['output_type'] = 'display_data';\n",
              "          await google.colab.output.renderOutput(dataTable, element);\n",
              "          const docLink = document.createElement('div');\n",
              "          docLink.innerHTML = docLinkHtml;\n",
              "          element.appendChild(docLink);\n",
              "        }\n",
              "      </script>\n",
              "    </div>\n",
              "  </div>\n",
              "  "
            ]
          },
          "metadata": {},
          "execution_count": 14
        }
      ]
    },
    {
      "cell_type": "code",
      "source": [
        "df_normalized.head()"
      ],
      "metadata": {
        "id": "thh4zamcSHB2",
        "colab": {
          "base_uri": "https://localhost:8080/",
          "height": 299
        },
        "outputId": "7290e3e2-caf6-4ade-91b6-afdca4356108"
      },
      "execution_count": null,
      "outputs": [
        {
          "output_type": "execute_result",
          "data": {
            "text/plain": [
              "   total_cases  new_cases_smoothed  total_deaths  new_deaths_smoothed  \\\n",
              "0    -1.182042           -0.921967     -1.395029             -1.32027   \n",
              "1    -1.182042           -0.921967     -1.395029             -1.32027   \n",
              "2    -1.182042           -0.921967     -1.395029             -1.32027   \n",
              "3    -1.182042           -0.921967     -1.395029             -1.32027   \n",
              "4    -1.182042           -0.921967     -1.395029             -1.32027   \n",
              "\n",
              "   total_cases_per_million  new_cases_smoothed_per_million  \\\n",
              "0                -1.182042                       -0.921966   \n",
              "1                -1.182042                       -0.921966   \n",
              "2                -1.182042                       -0.921966   \n",
              "3                -1.182042                       -0.921966   \n",
              "4                -1.182042                       -0.921966   \n",
              "\n",
              "   total_deaths_per_million  new_deaths_smoothed_per_million  \\\n",
              "0                 -1.395029                        -1.320276   \n",
              "1                 -1.395029                        -1.320276   \n",
              "2                 -1.395029                        -1.320276   \n",
              "3                 -1.395029                        -1.320276   \n",
              "4                 -1.395029                        -1.320276   \n",
              "\n",
              "   reproduction_rate  total_tests  ...  male_smokers  handwashing_facilities  \\\n",
              "0          -2.577249    -1.154623  ...  3.552714e-15                     0.0   \n",
              "1          -2.577249    -1.154609  ...  3.552714e-15                     0.0   \n",
              "2          -2.577249    -1.154591  ...  3.552714e-15                     0.0   \n",
              "3          -2.577249    -1.154582  ...  3.552714e-15                     0.0   \n",
              "4          -2.577249    -1.154566  ...  3.552714e-15                     0.0   \n",
              "\n",
              "   hospital_beds_per_thousand  life_expectancy  human_development_index  \\\n",
              "0                2.220446e-16     1.421085e-14            -1.110223e-16   \n",
              "1                2.220446e-16     1.421085e-14            -1.110223e-16   \n",
              "2                2.220446e-16     1.421085e-14            -1.110223e-16   \n",
              "3                2.220446e-16     1.421085e-14            -1.110223e-16   \n",
              "4                2.220446e-16     1.421085e-14            -1.110223e-16   \n",
              "\n",
              "   excess_mortality_cumulative_absolute  excess_mortality_cumulative  \\\n",
              "0                             -1.503336                    -1.901628   \n",
              "1                             -1.503336                    -1.901628   \n",
              "2                             -1.503336                    -1.901628   \n",
              "3                             -1.503336                    -1.901628   \n",
              "4                             -1.503677                    -1.929585   \n",
              "\n",
              "   excess_mortality  excess_mortality_cumulative_per_million      days  \n",
              "0         -0.852539                                -1.503336 -1.730009  \n",
              "1         -0.852539                                -1.503336 -1.725924  \n",
              "2         -0.852539                                -1.503336 -1.721839  \n",
              "3         -0.852539                                -1.503336 -1.717754  \n",
              "4         -0.864674                                -1.503677 -1.713669  \n",
              "\n",
              "[5 rows x 48 columns]"
            ],
            "text/html": [
              "\n",
              "  <div id=\"df-b8f5fe0f-afc8-4891-ad95-9f417cc1ba3c\">\n",
              "    <div class=\"colab-df-container\">\n",
              "      <div>\n",
              "<style scoped>\n",
              "    .dataframe tbody tr th:only-of-type {\n",
              "        vertical-align: middle;\n",
              "    }\n",
              "\n",
              "    .dataframe tbody tr th {\n",
              "        vertical-align: top;\n",
              "    }\n",
              "\n",
              "    .dataframe thead th {\n",
              "        text-align: right;\n",
              "    }\n",
              "</style>\n",
              "<table border=\"1\" class=\"dataframe\">\n",
              "  <thead>\n",
              "    <tr style=\"text-align: right;\">\n",
              "      <th></th>\n",
              "      <th>total_cases</th>\n",
              "      <th>new_cases_smoothed</th>\n",
              "      <th>total_deaths</th>\n",
              "      <th>new_deaths_smoothed</th>\n",
              "      <th>total_cases_per_million</th>\n",
              "      <th>new_cases_smoothed_per_million</th>\n",
              "      <th>total_deaths_per_million</th>\n",
              "      <th>new_deaths_smoothed_per_million</th>\n",
              "      <th>reproduction_rate</th>\n",
              "      <th>total_tests</th>\n",
              "      <th>...</th>\n",
              "      <th>male_smokers</th>\n",
              "      <th>handwashing_facilities</th>\n",
              "      <th>hospital_beds_per_thousand</th>\n",
              "      <th>life_expectancy</th>\n",
              "      <th>human_development_index</th>\n",
              "      <th>excess_mortality_cumulative_absolute</th>\n",
              "      <th>excess_mortality_cumulative</th>\n",
              "      <th>excess_mortality</th>\n",
              "      <th>excess_mortality_cumulative_per_million</th>\n",
              "      <th>days</th>\n",
              "    </tr>\n",
              "  </thead>\n",
              "  <tbody>\n",
              "    <tr>\n",
              "      <th>0</th>\n",
              "      <td>-1.182042</td>\n",
              "      <td>-0.921967</td>\n",
              "      <td>-1.395029</td>\n",
              "      <td>-1.32027</td>\n",
              "      <td>-1.182042</td>\n",
              "      <td>-0.921966</td>\n",
              "      <td>-1.395029</td>\n",
              "      <td>-1.320276</td>\n",
              "      <td>-2.577249</td>\n",
              "      <td>-1.154623</td>\n",
              "      <td>...</td>\n",
              "      <td>3.552714e-15</td>\n",
              "      <td>0.0</td>\n",
              "      <td>2.220446e-16</td>\n",
              "      <td>1.421085e-14</td>\n",
              "      <td>-1.110223e-16</td>\n",
              "      <td>-1.503336</td>\n",
              "      <td>-1.901628</td>\n",
              "      <td>-0.852539</td>\n",
              "      <td>-1.503336</td>\n",
              "      <td>-1.730009</td>\n",
              "    </tr>\n",
              "    <tr>\n",
              "      <th>1</th>\n",
              "      <td>-1.182042</td>\n",
              "      <td>-0.921967</td>\n",
              "      <td>-1.395029</td>\n",
              "      <td>-1.32027</td>\n",
              "      <td>-1.182042</td>\n",
              "      <td>-0.921966</td>\n",
              "      <td>-1.395029</td>\n",
              "      <td>-1.320276</td>\n",
              "      <td>-2.577249</td>\n",
              "      <td>-1.154609</td>\n",
              "      <td>...</td>\n",
              "      <td>3.552714e-15</td>\n",
              "      <td>0.0</td>\n",
              "      <td>2.220446e-16</td>\n",
              "      <td>1.421085e-14</td>\n",
              "      <td>-1.110223e-16</td>\n",
              "      <td>-1.503336</td>\n",
              "      <td>-1.901628</td>\n",
              "      <td>-0.852539</td>\n",
              "      <td>-1.503336</td>\n",
              "      <td>-1.725924</td>\n",
              "    </tr>\n",
              "    <tr>\n",
              "      <th>2</th>\n",
              "      <td>-1.182042</td>\n",
              "      <td>-0.921967</td>\n",
              "      <td>-1.395029</td>\n",
              "      <td>-1.32027</td>\n",
              "      <td>-1.182042</td>\n",
              "      <td>-0.921966</td>\n",
              "      <td>-1.395029</td>\n",
              "      <td>-1.320276</td>\n",
              "      <td>-2.577249</td>\n",
              "      <td>-1.154591</td>\n",
              "      <td>...</td>\n",
              "      <td>3.552714e-15</td>\n",
              "      <td>0.0</td>\n",
              "      <td>2.220446e-16</td>\n",
              "      <td>1.421085e-14</td>\n",
              "      <td>-1.110223e-16</td>\n",
              "      <td>-1.503336</td>\n",
              "      <td>-1.901628</td>\n",
              "      <td>-0.852539</td>\n",
              "      <td>-1.503336</td>\n",
              "      <td>-1.721839</td>\n",
              "    </tr>\n",
              "    <tr>\n",
              "      <th>3</th>\n",
              "      <td>-1.182042</td>\n",
              "      <td>-0.921967</td>\n",
              "      <td>-1.395029</td>\n",
              "      <td>-1.32027</td>\n",
              "      <td>-1.182042</td>\n",
              "      <td>-0.921966</td>\n",
              "      <td>-1.395029</td>\n",
              "      <td>-1.320276</td>\n",
              "      <td>-2.577249</td>\n",
              "      <td>-1.154582</td>\n",
              "      <td>...</td>\n",
              "      <td>3.552714e-15</td>\n",
              "      <td>0.0</td>\n",
              "      <td>2.220446e-16</td>\n",
              "      <td>1.421085e-14</td>\n",
              "      <td>-1.110223e-16</td>\n",
              "      <td>-1.503336</td>\n",
              "      <td>-1.901628</td>\n",
              "      <td>-0.852539</td>\n",
              "      <td>-1.503336</td>\n",
              "      <td>-1.717754</td>\n",
              "    </tr>\n",
              "    <tr>\n",
              "      <th>4</th>\n",
              "      <td>-1.182042</td>\n",
              "      <td>-0.921967</td>\n",
              "      <td>-1.395029</td>\n",
              "      <td>-1.32027</td>\n",
              "      <td>-1.182042</td>\n",
              "      <td>-0.921966</td>\n",
              "      <td>-1.395029</td>\n",
              "      <td>-1.320276</td>\n",
              "      <td>-2.577249</td>\n",
              "      <td>-1.154566</td>\n",
              "      <td>...</td>\n",
              "      <td>3.552714e-15</td>\n",
              "      <td>0.0</td>\n",
              "      <td>2.220446e-16</td>\n",
              "      <td>1.421085e-14</td>\n",
              "      <td>-1.110223e-16</td>\n",
              "      <td>-1.503677</td>\n",
              "      <td>-1.929585</td>\n",
              "      <td>-0.864674</td>\n",
              "      <td>-1.503677</td>\n",
              "      <td>-1.713669</td>\n",
              "    </tr>\n",
              "  </tbody>\n",
              "</table>\n",
              "<p>5 rows × 48 columns</p>\n",
              "</div>\n",
              "      <button class=\"colab-df-convert\" onclick=\"convertToInteractive('df-b8f5fe0f-afc8-4891-ad95-9f417cc1ba3c')\"\n",
              "              title=\"Convert this dataframe to an interactive table.\"\n",
              "              style=\"display:none;\">\n",
              "        \n",
              "  <svg xmlns=\"http://www.w3.org/2000/svg\" height=\"24px\"viewBox=\"0 0 24 24\"\n",
              "       width=\"24px\">\n",
              "    <path d=\"M0 0h24v24H0V0z\" fill=\"none\"/>\n",
              "    <path d=\"M18.56 5.44l.94 2.06.94-2.06 2.06-.94-2.06-.94-.94-2.06-.94 2.06-2.06.94zm-11 1L8.5 8.5l.94-2.06 2.06-.94-2.06-.94L8.5 2.5l-.94 2.06-2.06.94zm10 10l.94 2.06.94-2.06 2.06-.94-2.06-.94-.94-2.06-.94 2.06-2.06.94z\"/><path d=\"M17.41 7.96l-1.37-1.37c-.4-.4-.92-.59-1.43-.59-.52 0-1.04.2-1.43.59L10.3 9.45l-7.72 7.72c-.78.78-.78 2.05 0 2.83L4 21.41c.39.39.9.59 1.41.59.51 0 1.02-.2 1.41-.59l7.78-7.78 2.81-2.81c.8-.78.8-2.07 0-2.86zM5.41 20L4 18.59l7.72-7.72 1.47 1.35L5.41 20z\"/>\n",
              "  </svg>\n",
              "      </button>\n",
              "      \n",
              "  <style>\n",
              "    .colab-df-container {\n",
              "      display:flex;\n",
              "      flex-wrap:wrap;\n",
              "      gap: 12px;\n",
              "    }\n",
              "\n",
              "    .colab-df-convert {\n",
              "      background-color: #E8F0FE;\n",
              "      border: none;\n",
              "      border-radius: 50%;\n",
              "      cursor: pointer;\n",
              "      display: none;\n",
              "      fill: #1967D2;\n",
              "      height: 32px;\n",
              "      padding: 0 0 0 0;\n",
              "      width: 32px;\n",
              "    }\n",
              "\n",
              "    .colab-df-convert:hover {\n",
              "      background-color: #E2EBFA;\n",
              "      box-shadow: 0px 1px 2px rgba(60, 64, 67, 0.3), 0px 1px 3px 1px rgba(60, 64, 67, 0.15);\n",
              "      fill: #174EA6;\n",
              "    }\n",
              "\n",
              "    [theme=dark] .colab-df-convert {\n",
              "      background-color: #3B4455;\n",
              "      fill: #D2E3FC;\n",
              "    }\n",
              "\n",
              "    [theme=dark] .colab-df-convert:hover {\n",
              "      background-color: #434B5C;\n",
              "      box-shadow: 0px 1px 3px 1px rgba(0, 0, 0, 0.15);\n",
              "      filter: drop-shadow(0px 1px 2px rgba(0, 0, 0, 0.3));\n",
              "      fill: #FFFFFF;\n",
              "    }\n",
              "  </style>\n",
              "\n",
              "      <script>\n",
              "        const buttonEl =\n",
              "          document.querySelector('#df-b8f5fe0f-afc8-4891-ad95-9f417cc1ba3c button.colab-df-convert');\n",
              "        buttonEl.style.display =\n",
              "          google.colab.kernel.accessAllowed ? 'block' : 'none';\n",
              "\n",
              "        async function convertToInteractive(key) {\n",
              "          const element = document.querySelector('#df-b8f5fe0f-afc8-4891-ad95-9f417cc1ba3c');\n",
              "          const dataTable =\n",
              "            await google.colab.kernel.invokeFunction('convertToInteractive',\n",
              "                                                     [key], {});\n",
              "          if (!dataTable) return;\n",
              "\n",
              "          const docLinkHtml = 'Like what you see? Visit the ' +\n",
              "            '<a target=\"_blank\" href=https://colab.research.google.com/notebooks/data_table.ipynb>data table notebook</a>'\n",
              "            + ' to learn more about interactive tables.';\n",
              "          element.innerHTML = '';\n",
              "          dataTable['output_type'] = 'display_data';\n",
              "          await google.colab.output.renderOutput(dataTable, element);\n",
              "          const docLink = document.createElement('div');\n",
              "          docLink.innerHTML = docLinkHtml;\n",
              "          element.appendChild(docLink);\n",
              "        }\n",
              "      </script>\n",
              "    </div>\n",
              "  </div>\n",
              "  "
            ]
          },
          "metadata": {},
          "execution_count": 15
        }
      ]
    },
    {
      "cell_type": "markdown",
      "source": [
        "## Regression models"
      ],
      "metadata": {
        "id": "CwrloXt9TGcU"
      }
    },
    {
      "cell_type": "markdown",
      "source": [
        "### Recurrent Neural Networks (RNN)\n",
        "\n",
        "Recurrent Neural Networks (RNN) are a variant of neural networks that are heavily used for Natural Language Processing and Sequential Data.\n",
        "This class of neural networks allows previous outputs to be used as inputs, while having hidden states. Additionally, these networks add the concept of \"memory\", which consists of remembering all information about what has been calculated until time step *t*. \n",
        "\n",
        "RNNs are called \"recurrent\" because they perform the same task for every element of a sequence, with the output being dependent of previous computations.\n",
        "\n",
        "Compared to a traditional neural network that receives an input at the input layer and it is further processed through a number of hidden layers, and finally, a final output is generated for input t, and that two successive inputs are independent of each other, a recurrent neural network, in contrast, considers that inputs are sequential and there is a relationship between inputs t and input at timestep t-1.\n",
        "\n",
        "For instance, when predicting the price of a stock market at a given time, or when attempting to predict the next word in a sequence, it is imperative to consider previous observations. There are multiple cases where the sequence of information determines the event itself.\n",
        "\n",
        "The equation for a single neuron in a RNN is given by:\n",
        "\n",
        "$h_{t} = f(W_{h}^{T}h_{t-1} + W_{x}^{T}X_{T} + b_{h})$\n",
        "\n",
        "Where:\n",
        "- f is the activation function\n",
        "- $W_{h}$ are the weights for the feedback loop\n",
        "- $h_{t-1}$ is the response from the previous state\n",
        "- $W_{x}$ is the weight matrix\n",
        "- $b_{h}$ is the bias term\n",
        "\n",
        "Unlike a traditional deep neural network, RNN converts the independent activations into dependent activations by providing the same weights and biases to all the layers. This reflects the fact that we are performing the same task at each step, just with different inputs.\n",
        "This reduces the total number of parameters we need to learn.\n",
        "\n",
        "The main feature of an RNN is its hidden state, which captures some information about a sequence."
      ],
      "metadata": {
        "id": "_UzpjArpjHcL"
      }
    },
    {
      "cell_type": "code",
      "source": [
        "from tensorflow.keras.models import Sequential\n",
        "from tensorflow.keras.layers import *\n",
        "from tensorflow.keras.callbacks import ModelCheckpoint\n",
        "from tensorflow.keras.losses import MeanSquaredError\n",
        "from sklearn.metrics import mean_squared_log_error\n",
        "from tensorflow.keras.optimizers import Adam\n",
        "import tensorflow as tf\n",
        "import matplotlib.pyplot as plt\n",
        "import math"
      ],
      "metadata": {
        "id": "d0l_bMWNrXfB"
      },
      "execution_count": null,
      "outputs": []
    },
    {
      "cell_type": "code",
      "source": [
        "new_df = df_normalized[ 'new_deaths_smoothed' ].copy()"
      ],
      "metadata": {
        "id": "l3qscRCkrrK5"
      },
      "execution_count": null,
      "outputs": []
    },
    {
      "cell_type": "markdown",
      "source": [
        "Define the window of the RNN model and training set at 80%:"
      ],
      "metadata": {
        "id": "feiLEcr2ruAA"
      }
    },
    {
      "cell_type": "code",
      "source": [
        "window = 10\n",
        "train_len = math.ceil( len(new_df) * 0.8 )\n",
        "train_data = new_df[ 0 : train_len]\n",
        "\n",
        "X_train = [ train_data[ i - window : i] for i in range( window, len(train_data) ) ]\n",
        "Y_train = [ train_data[ i ]             for i in range( window, len(train_data) ) ]\n",
        "\n",
        "X_train, Y_train= np.array(X_train), np.array(Y_train)\n",
        "X_train = np.reshape(X_train, (X_train.shape[0], X_train.shape[1], 1))"
      ],
      "metadata": {
        "id": "P54lOqiNrwj4"
      },
      "execution_count": null,
      "outputs": []
    },
    {
      "cell_type": "markdown",
      "source": [
        "Define validation set at remaining 20%"
      ],
      "metadata": {
        "id": "kZH2NL8dr2xD"
      }
    },
    {
      "cell_type": "code",
      "source": [
        "test_data = new_df[ train_len - window: ]\n",
        "\n",
        "X_val=[ test_data[ i - window : i] for i in range( window, len(test_data) ) ]\n",
        "Y_val=[ test_data[ train_len - window + i] for i in range( window, len(test_data) ) ] \n",
        "\n",
        "X_val, Y_val = np.array(X_val), np.array(Y_val)\n",
        "X_val = np.reshape(X_val, (X_val.shape[0], X_val.shape[1],1))"
      ],
      "metadata": {
        "id": "Vsvxnpgdrwcr"
      },
      "execution_count": null,
      "outputs": []
    },
    {
      "cell_type": "markdown",
      "source": [
        "Build the RNN network and train with proper set: "
      ],
      "metadata": {
        "id": "RLjbokl_r8o5"
      }
    },
    {
      "cell_type": "code",
      "source": [
        "def RNN_model(X_train, summary = True):\n",
        "\n",
        "  modelRNN=Sequential()\n",
        "  modelRNN.add(SimpleRNN(50,return_sequences=True, activation='relu', input_shape=(X_train.shape[1],1)))\n",
        "  modelRNN.add(SimpleRNN(50,return_sequences=False,activation='relu'))\n",
        "  modelRNN.add(Dense(100))\n",
        "  modelRNN.add(Dense(25))\n",
        "  modelRNN.add(Dense(1))\n",
        "  opt1=Adam(learning_rate=0.001,beta_1=0.9,beta_2=0.999)\n",
        "  modelRNN.compile(loss='mean_squared_error', optimizer=opt1)\n",
        "\n",
        "  if summary == True:\n",
        "    modelRNN.summary()\n",
        "  return modelRNN\n",
        "\n",
        "modelRNN = RNN_model(X_train)"
      ],
      "metadata": {
        "id": "1Om0fiv8rwXw",
        "colab": {
          "base_uri": "https://localhost:8080/"
        },
        "outputId": "eec83f15-7e8c-4384-b7b5-193a5ecc5030"
      },
      "execution_count": null,
      "outputs": [
        {
          "output_type": "stream",
          "name": "stdout",
          "text": [
            "Model: \"sequential\"\n",
            "_________________________________________________________________\n",
            " Layer (type)                Output Shape              Param #   \n",
            "=================================================================\n",
            " simple_rnn (SimpleRNN)      (None, 10, 50)            2600      \n",
            "                                                                 \n",
            " simple_rnn_1 (SimpleRNN)    (None, 50)                5050      \n",
            "                                                                 \n",
            " dense (Dense)               (None, 100)               5100      \n",
            "                                                                 \n",
            " dense_1 (Dense)             (None, 25)                2525      \n",
            "                                                                 \n",
            " dense_2 (Dense)             (None, 1)                 26        \n",
            "                                                                 \n",
            "=================================================================\n",
            "Total params: 15,301\n",
            "Trainable params: 15,301\n",
            "Non-trainable params: 0\n",
            "_________________________________________________________________\n"
          ]
        }
      ]
    },
    {
      "cell_type": "code",
      "source": [
        "modelRNN.fit( X_train, Y_train, validation_data=(X_val, Y_val), epochs=10, batch_size=10, verbose=2)"
      ],
      "metadata": {
        "id": "LZsA6Sins4JJ",
        "colab": {
          "base_uri": "https://localhost:8080/"
        },
        "outputId": "d2537b5b-2eb4-48a6-9b89-6fa703a381bf"
      },
      "execution_count": null,
      "outputs": [
        {
          "output_type": "stream",
          "name": "stdout",
          "text": [
            "Epoch 1/10\n",
            "67/67 - 3s - loss: 0.0866 - val_loss: 0.0167 - 3s/epoch - 38ms/step\n",
            "Epoch 2/10\n",
            "67/67 - 0s - loss: 0.0201 - val_loss: 0.0168 - 395ms/epoch - 6ms/step\n",
            "Epoch 3/10\n",
            "67/67 - 0s - loss: 0.0195 - val_loss: 0.0163 - 446ms/epoch - 7ms/step\n",
            "Epoch 4/10\n",
            "67/67 - 0s - loss: 0.0237 - val_loss: 0.0176 - 413ms/epoch - 6ms/step\n",
            "Epoch 5/10\n",
            "67/67 - 0s - loss: 0.0179 - val_loss: 0.0174 - 419ms/epoch - 6ms/step\n",
            "Epoch 6/10\n",
            "67/67 - 0s - loss: 0.0207 - val_loss: 0.0186 - 416ms/epoch - 6ms/step\n",
            "Epoch 7/10\n",
            "67/67 - 0s - loss: 0.0166 - val_loss: 0.0182 - 406ms/epoch - 6ms/step\n",
            "Epoch 8/10\n",
            "67/67 - 0s - loss: 0.0183 - val_loss: 0.0182 - 428ms/epoch - 6ms/step\n",
            "Epoch 9/10\n",
            "67/67 - 0s - loss: 0.0181 - val_loss: 0.0179 - 404ms/epoch - 6ms/step\n",
            "Epoch 10/10\n",
            "67/67 - 0s - loss: 0.0148 - val_loss: 0.0189 - 441ms/epoch - 7ms/step\n"
          ]
        },
        {
          "output_type": "execute_result",
          "data": {
            "text/plain": [
              "<keras.callbacks.History at 0x7f3fb3c3bf90>"
            ]
          },
          "metadata": {},
          "execution_count": 21
        }
      ]
    },
    {
      "cell_type": "markdown",
      "source": [
        "Plot Predictions vs Actual Values"
      ],
      "metadata": {
        "id": "HkRT6CoOtYAv"
      }
    },
    {
      "cell_type": "code",
      "source": [
        "train_predictions = modelRNN.predict( X_train ).flatten()\n",
        "train_results     = pd.DataFrame( data = {'Train Predictions' : train_predictions, 'Actuals' : Y_train })\n",
        "\n",
        "# Plot the predictions and actual data for the training set\n",
        "train_results['days'] = train_results.reset_index().index.astype(np.float64)\n",
        "train_results[[\"days\",\"Train Predictions\",\"Actuals\"]].plot(x=\"days\", grid=True, title='Training data')"
      ],
      "metadata": {
        "id": "wy979GRBtV5_",
        "colab": {
          "base_uri": "https://localhost:8080/",
          "height": 312
        },
        "outputId": "5270f307-a7ea-41b7-9d5d-f1d9bd795b4e"
      },
      "execution_count": null,
      "outputs": [
        {
          "output_type": "execute_result",
          "data": {
            "text/plain": [
              "<matplotlib.axes._subplots.AxesSubplot at 0x7f3fb23488d0>"
            ]
          },
          "metadata": {},
          "execution_count": 22
        },
        {
          "output_type": "display_data",
          "data": {
            "text/plain": [
              "<Figure size 432x288 with 1 Axes>"
            ],
            "image/png": "[encoded data removed]"
          },
          "metadata": {
            "needs_background": "light"
          }
        }
      ]
    },
    {
      "cell_type": "markdown",
      "source": [
        "Plot Validation Data vs Actual Values"
      ],
      "metadata": {
        "id": "Eb8iuoITtpqI"
      }
    },
    {
      "cell_type": "code",
      "source": [
        "val_predictions = modelRNN.predict(X_val).flatten()\n",
        "val_results     = pd.DataFrame(data={'Val Predictions':val_predictions, 'Actuals':Y_val})\n",
        "\n",
        "# Plot the predictions and actual data for the training set\n",
        "val_results['days'] = [ i for i in range( train_len, len(new_df) )]\n",
        "val_results[[\"days\",\"Val Predictions\",\"Actuals\"]].plot(x=\"days\", grid=True, title='Validation data')"
      ],
      "metadata": {
        "id": "ehE_aUqEtl2_",
        "colab": {
          "base_uri": "https://localhost:8080/",
          "height": 312
        },
        "outputId": "bfd3d25a-578c-4a46-c89b-819cf7a85acd"
      },
      "execution_count": null,
      "outputs": [
        {
          "output_type": "execute_result",
          "data": {
            "text/plain": [
              "<matplotlib.axes._subplots.AxesSubplot at 0x7f3fb3a27110>"
            ]
          },
          "metadata": {},
          "execution_count": 23
        },
        {
          "output_type": "display_data",
          "data": {
            "text/plain": [
              "<Figure size 432x288 with 1 Axes>"
            ],
            "image/png": "[encoded data removed]"
          },
          "metadata": {
            "needs_background": "light"
          }
        }
      ]
    },
    {
      "cell_type": "code",
      "source": [
        "from sklearn.metrics import mean_squared_error\n",
        "print('Train rmse:', np.sqrt(mean_squared_error(Y_train, train_predictions)))\n",
        "print('Validation rmse:', np.sqrt(mean_squared_error(Y_val, val_predictions)))"
      ],
      "metadata": {
        "colab": {
          "base_uri": "https://localhost:8080/"
        },
        "id": "avzWU5UdTghI",
        "outputId": "28f11ac5-eeca-43ec-bb40-92a6f6c3f2db"
      },
      "execution_count": null,
      "outputs": [
        {
          "output_type": "stream",
          "name": "stdout",
          "text": [
            "Train rmse: 0.1122108769136713\n",
            "Validation rmse: 0.13736013723488757\n"
          ]
        }
      ]
    },
    {
      "cell_type": "markdown",
      "source": [
        "Make a forecasting with a window of 10 days"
      ],
      "metadata": {
        "id": "_QsXMPhCtwWI"
      }
    },
    {
      "cell_type": "code",
      "source": [
        "df_forecasting = new_df\n",
        "\n",
        "for i in range(1, window + 1,1):\n",
        "    #Take the last 10 days from the dataframe:\n",
        "    last_10_days = df_forecasting[-window:].values\n",
        "    X_test = []\n",
        "    X_test.append(last_10_days)\n",
        "    X_test = tf.constant(X_test)\n",
        "    #Reshape properly to be used by the model:\n",
        "    X_test = np.reshape(X_test, (X_test.shape[0], X_test.shape[1],1))\n",
        "    pred_new_deaths = modelRNN.predict( X_test )\n",
        "    df_forecasting = df_forecasting.append( pd.Series( float( pred_new_deaths ) ) ).copy()\n",
        "\n",
        "df_forecasting = df_forecasting.reset_index( drop = True)\n",
        "plt.figure(figsize=(16,8))\n",
        "plt.title(f'Historic values and forecasting of future values in Mexico')\n",
        "plt.xlabel('Date')\n",
        "plt.ylabel('Deaths')\n",
        "plt.plot(df_forecasting[:-window])\n",
        "plt.plot(df_forecasting[-window:])\n",
        "plt.legend(['Historic values','Forecast'])\n",
        "plt.show()"
      ],
      "metadata": {
        "id": "1Rna8pYKtvIY",
        "colab": {
          "base_uri": "https://localhost:8080/",
          "height": 513
        },
        "outputId": "98cbe4a5-2030-4fdc-fa1b-1d15268671d4"
      },
      "execution_count": null,
      "outputs": [
        {
          "output_type": "display_data",
          "data": {
            "text/plain": [
              "<Figure size 1152x576 with 1 Axes>"
            ],
            "image/png": "[encoded data removed]"
          },
          "metadata": {
            "needs_background": "light"
          }
        }
      ]
    },
    {
      "cell_type": "markdown",
      "source": [
        "#### LSTM\n",
        "\n",
        "Long Short-Term Memory is an advanced version of recurrent neural network (RNN) architecture that was mainly introduced to handle situations where RNNs could fail. They are designed to model chronological sequences and their long-range dependencies more precisely than conventional RNNs, by taking into consideration the previous output and storing it in its memory for a short period of time (short-term memory).\n",
        "\n",
        "One the major drawbacks of RNNs is that they fail to store information for longer periods of time. Moreover, there is no control over which part of the context needs to be kept, and how much of the past needs to be 'forgotten'. Thus, LSTM was created to satisfy those problems.\n",
        "\n",
        "The basic difference between the architectures of RNNs and LSTMs is that the hidden layer of LSTM is a gated unit or gated cell. It consists of four layers that interact with one another in a way to produce the output of that cell along with the cell state. These two things are then passed onto the next hidden layer. LSTMs comprises of three logistic sigmoid gates and one tanh layer. These gates reduce limit the information that is passed through the cell by determining which part of the information will be needed (1) by the next cell, or which part will be discarded (0). \n",
        "\n",
        "\n",
        "Each LSTM cell has three inputs $h_{t-1}$, $C_{t-1}$, and $x_{t}$ (current input) and two outputs $h_{t}$ (hidden state at time t)  and $C_t$ (cell state or memory).\n",
        "\n",
        "The first sigmoid layer is known as the forget gate as its output selects the amount of information of the previous cell to be included. The output is a number in [0,1] which is multiplied (point-wise) with the previous cell state $C_{t-1}$. \n",
        "\n",
        "The second sigmoid layer is the input gate that decides what new information is to be added to the cell. It includes a tanh layer that creates a vector $C_t$ of the candidate values. These two layers determine which information will be stored in the cell state.\n",
        "\n",
        "The resulf of these two layers is addded with the result of the forget gate multiplied with the previous cell state to produce the current cell state.\n",
        "\n",
        "The output of the cell is calculated using a sigmoid and a tanh layer. The sigmoid layer decides which part of the cell state will be present in the output whereas tanh layer shifts the output in the range of -1 and 1. Once multiplied, $h_t$ of the cell is generated."
      ],
      "metadata": {
        "id": "hrmIAYK8E73z"
      }
    },
    {
      "cell_type": "markdown",
      "source": [
        "There are some libraries such as ```tensorflow``` that already have an implementation for LSTM. \n",
        "\n",
        "In the cells below, LSTM is imported at ```from tensorflow.keras.layers import *```\n",
        "\n"
      ],
      "metadata": {
        "id": "6N75wUewCB0j"
      }
    },
    {
      "cell_type": "code",
      "source": [
        "!pip install keras-tuner"
      ],
      "metadata": {
        "id": "PPQr-NtGgT7i",
        "colab": {
          "base_uri": "https://localhost:8080/"
        },
        "outputId": "1109d66b-6591-408c-ee9e-1873fbb33c33"
      },
      "execution_count": null,
      "outputs": [
        {
          "output_type": "stream",
          "name": "stdout",
          "text": [
            "Collecting keras-tuner\n",
            "  Downloading keras_tuner-1.1.2-py3-none-any.whl (133 kB)\n",
            "\u001b[?25l\r\u001b[K     |██▌                             | 10 kB 18.4 MB/s eta 0:00:01\r\u001b[K     |█████                           | 20 kB 23.3 MB/s eta 0:00:01\r\u001b[K     |███████▍                        | 30 kB 27.2 MB/s eta 0:00:01\r\u001b[K     |█████████▉                      | 40 kB 31.0 MB/s eta 0:00:01\r\u001b[K     |████████████▎                   | 51 kB 21.5 MB/s eta 0:00:01\r\u001b[K     |██████████████▊                 | 61 kB 23.5 MB/s eta 0:00:01\r\u001b[K     |█████████████████▏              | 71 kB 24.8 MB/s eta 0:00:01\r\u001b[K     |███████████████████▋            | 81 kB 26.3 MB/s eta 0:00:01\r\u001b[K     |██████████████████████          | 92 kB 27.8 MB/s eta 0:00:01\r\u001b[K     |████████████████████████▌       | 102 kB 26.7 MB/s eta 0:00:01\r\u001b[K     |███████████████████████████     | 112 kB 26.7 MB/s eta 0:00:01\r\u001b[K     |█████████████████████████████▍  | 122 kB 26.7 MB/s eta 0:00:01\r\u001b[K     |███████████████████████████████▉| 133 kB 26.7 MB/s eta 0:00:01\r\u001b[K     |████████████████████████████████| 133 kB 26.7 MB/s \n",
            "\u001b[?25hRequirement already satisfied: ipython in /usr/local/lib/python3.7/dist-packages (from keras-tuner) (5.5.0)\n",
            "Requirement already satisfied: tensorboard in /usr/local/lib/python3.7/dist-packages (from keras-tuner) (2.8.0)\n",
            "Requirement already satisfied: packaging in /usr/local/lib/python3.7/dist-packages (from keras-tuner) (21.3)\n",
            "Requirement already satisfied: requests in /usr/local/lib/python3.7/dist-packages (from keras-tuner) (2.23.0)\n",
            "Requirement already satisfied: numpy in /usr/local/lib/python3.7/dist-packages (from keras-tuner) (1.21.6)\n",
            "Collecting kt-legacy\n",
            "  Downloading kt_legacy-1.0.4-py3-none-any.whl (9.6 kB)\n",
            "Requirement already satisfied: simplegeneric>0.8 in /usr/local/lib/python3.7/dist-packages (from ipython->keras-tuner) (0.8.1)\n",
            "Requirement already satisfied: traitlets>=4.2 in /usr/local/lib/python3.7/dist-packages (from ipython->keras-tuner) (5.1.1)\n",
            "Requirement already satisfied: pexpect in /usr/local/lib/python3.7/dist-packages (from ipython->keras-tuner) (4.8.0)\n",
            "Requirement already satisfied: setuptools>=18.5 in /usr/local/lib/python3.7/dist-packages (from ipython->keras-tuner) (57.4.0)\n",
            "Requirement already satisfied: prompt-toolkit<2.0.0,>=1.0.4 in /usr/local/lib/python3.7/dist-packages (from ipython->keras-tuner) (1.0.18)\n",
            "Requirement already satisfied: pygments in /usr/local/lib/python3.7/dist-packages (from ipython->keras-tuner) (2.6.1)\n",
            "Requirement already satisfied: pickleshare in /usr/local/lib/python3.7/dist-packages (from ipython->keras-tuner) (0.7.5)\n",
            "Requirement already satisfied: decorator in /usr/local/lib/python3.7/dist-packages (from ipython->keras-tuner) (4.4.2)\n",
            "Requirement already satisfied: wcwidth in /usr/local/lib/python3.7/dist-packages (from prompt-toolkit<2.0.0,>=1.0.4->ipython->keras-tuner) (0.2.5)\n",
            "Requirement already satisfied: six>=1.9.0 in /usr/local/lib/python3.7/dist-packages (from prompt-toolkit<2.0.0,>=1.0.4->ipython->keras-tuner) (1.15.0)\n",
            "Requirement already satisfied: pyparsing!=3.0.5,>=2.0.2 in /usr/local/lib/python3.7/dist-packages (from packaging->keras-tuner) (3.0.8)\n",
            "Requirement already satisfied: ptyprocess>=0.5 in /usr/local/lib/python3.7/dist-packages (from pexpect->ipython->keras-tuner) (0.7.0)\n",
            "Requirement already satisfied: chardet<4,>=3.0.2 in /usr/local/lib/python3.7/dist-packages (from requests->keras-tuner) (3.0.4)\n",
            "Requirement already satisfied: urllib3!=1.25.0,!=1.25.1,<1.26,>=1.21.1 in /usr/local/lib/python3.7/dist-packages (from requests->keras-tuner) (1.24.3)\n",
            "Requirement already satisfied: certifi>=2017.4.17 in /usr/local/lib/python3.7/dist-packages (from requests->keras-tuner) (2021.10.8)\n",
            "Requirement already satisfied: idna<3,>=2.5 in /usr/local/lib/python3.7/dist-packages (from requests->keras-tuner) (2.10)\n",
            "Requirement already satisfied: werkzeug>=0.11.15 in /usr/local/lib/python3.7/dist-packages (from tensorboard->keras-tuner) (1.0.1)\n",
            "Requirement already satisfied: google-auth<3,>=1.6.3 in /usr/local/lib/python3.7/dist-packages (from tensorboard->keras-tuner) (1.35.0)\n",
            "Requirement already satisfied: grpcio>=1.24.3 in /usr/local/lib/python3.7/dist-packages (from tensorboard->keras-tuner) (1.44.0)\n",
            "Requirement already satisfied: protobuf>=3.6.0 in /usr/local/lib/python3.7/dist-packages (from tensorboard->keras-tuner) (3.17.3)\n",
            "Requirement already satisfied: absl-py>=0.4 in /usr/local/lib/python3.7/dist-packages (from tensorboard->keras-tuner) (1.0.0)\n",
            "Requirement already satisfied: google-auth-oauthlib<0.5,>=0.4.1 in /usr/local/lib/python3.7/dist-packages (from tensorboard->keras-tuner) (0.4.6)\n",
            "Requirement already satisfied: tensorboard-plugin-wit>=1.6.0 in /usr/local/lib/python3.7/dist-packages (from tensorboard->keras-tuner) (1.8.1)\n",
            "Requirement already satisfied: tensorboard-data-server<0.7.0,>=0.6.0 in /usr/local/lib/python3.7/dist-packages (from tensorboard->keras-tuner) (0.6.1)\n",
            "Requirement already satisfied: wheel>=0.26 in /usr/local/lib/python3.7/dist-packages (from tensorboard->keras-tuner) (0.37.1)\n",
            "Requirement already satisfied: markdown>=2.6.8 in /usr/local/lib/python3.7/dist-packages (from tensorboard->keras-tuner) (3.3.6)\n",
            "Requirement already satisfied: rsa<5,>=3.1.4 in /usr/local/lib/python3.7/dist-packages (from google-auth<3,>=1.6.3->tensorboard->keras-tuner) (4.8)\n",
            "Requirement already satisfied: pyasn1-modules>=0.2.1 in /usr/local/lib/python3.7/dist-packages (from google-auth<3,>=1.6.3->tensorboard->keras-tuner) (0.2.8)\n",
            "Requirement already satisfied: cachetools<5.0,>=2.0.0 in /usr/local/lib/python3.7/dist-packages (from google-auth<3,>=1.6.3->tensorboard->keras-tuner) (4.2.4)\n",
            "Requirement already satisfied: requests-oauthlib>=0.7.0 in /usr/local/lib/python3.7/dist-packages (from google-auth-oauthlib<0.5,>=0.4.1->tensorboard->keras-tuner) (1.3.1)\n",
            "Requirement already satisfied: importlib-metadata>=4.4 in /usr/local/lib/python3.7/dist-packages (from markdown>=2.6.8->tensorboard->keras-tuner) (4.11.3)\n",
            "Requirement already satisfied: typing-extensions>=3.6.4 in /usr/local/lib/python3.7/dist-packages (from importlib-metadata>=4.4->markdown>=2.6.8->tensorboard->keras-tuner) (4.2.0)\n",
            "Requirement already satisfied: zipp>=0.5 in /usr/local/lib/python3.7/dist-packages (from importlib-metadata>=4.4->markdown>=2.6.8->tensorboard->keras-tuner) (3.8.0)\n",
            "Requirement already satisfied: pyasn1<0.5.0,>=0.4.6 in /usr/local/lib/python3.7/dist-packages (from pyasn1-modules>=0.2.1->google-auth<3,>=1.6.3->tensorboard->keras-tuner) (0.4.8)\n",
            "Requirement already satisfied: oauthlib>=3.0.0 in /usr/local/lib/python3.7/dist-packages (from requests-oauthlib>=0.7.0->google-auth-oauthlib<0.5,>=0.4.1->tensorboard->keras-tuner) (3.2.0)\n",
            "Installing collected packages: kt-legacy, keras-tuner\n",
            "Successfully installed keras-tuner-1.1.2 kt-legacy-1.0.4\n"
          ]
        }
      ]
    },
    {
      "cell_type": "code",
      "source": [
        "from tensorflow.keras.models import Sequential\n",
        "from tensorflow.keras.layers import *\n",
        "from tensorflow.keras.callbacks import ModelCheckpoint\n",
        "from tensorflow.keras.losses import MeanSquaredError\n",
        "from tensorflow.keras.metrics import RootMeanSquaredError\n",
        "from tensorflow.keras.optimizers import Adam\n",
        "from keras_tuner.tuners import RandomSearch\n",
        "from keras_tuner.engine.hyperparameters import HyperParameters\n",
        "from sklearn.metrics import mean_squared_error"
      ],
      "metadata": {
        "id": "2fQDsnYUGcdQ"
      },
      "execution_count": null,
      "outputs": []
    },
    {
      "cell_type": "markdown",
      "source": [
        "We start by dividing our new_deaths_smoothed vector into training, test, and validation. Since we are working with a time series, we decide to choose the last X measurements as validation.\n",
        "\n",
        "Additionally, the function `preprocessDataforLSTM` is created. This function defines how many samples will be given to the model per timestep. For example, using the default value = 5, during the first timestep, samples 0 through 4 will be introduced to the RNN. The next timestemp will provide samples 5 through 9 and so on. "
      ],
      "metadata": {
        "id": "-oW-hfbVFFD0"
      }
    },
    {
      "cell_type": "code",
      "source": [
        "def preprocessDataForLSTM(s, window_size=5):\n",
        "  X = []\n",
        "  y = []\n",
        "\n",
        "  for i in range(window_size, len(s)):\n",
        "    X.append(s[i-window_size:i])\n",
        "    y.append(s[i])\n",
        "\n",
        "  return np.array(X), np.array(y)"
      ],
      "metadata": {
        "id": "LxWK62XVFIfC"
      },
      "execution_count": null,
      "outputs": []
    },
    {
      "cell_type": "code",
      "source": [
        "# Divide the data in windows\n",
        "X, y = preprocessDataForLSTM(df_normalized['new_deaths_smoothed'], window_size = 5)\n",
        "\n",
        "# Create test, validation, and training tests\n",
        "train_size       = int(np.round(len(y)*0.7))\n",
        "\n",
        "validation_size  = int(np.round((len(y) - train_size) * 0.7))\n",
        "test_start       = train_size + validation_size\n",
        "\n",
        "X_train, y_train = X[:train_size], y[:train_size]\n",
        "X_val  , y_val   = X[train_size:test_start], y[train_size:test_start]\n",
        "X_test , y_test  = X[test_start:], y[test_start:]"
      ],
      "metadata": {
        "id": "kHNK3io_FLqm"
      },
      "execution_count": null,
      "outputs": []
    },
    {
      "cell_type": "code",
      "source": [
        "print(f\"Train size: {X_train.shape[0]}, Test size: {X_test.shape[0]}, Validation size: {X_val.shape[0]}\")"
      ],
      "metadata": {
        "id": "CUlsdWmYZgtE",
        "colab": {
          "base_uri": "https://localhost:8080/"
        },
        "outputId": "085044bc-f57e-4280-b204-f4cb573e7be5"
      },
      "execution_count": null,
      "outputs": [
        {
          "output_type": "stream",
          "name": "stdout",
          "text": [
            "Train size: 590, Test size: 76, Validation size: 177\n"
          ]
        }
      ]
    },
    {
      "cell_type": "markdown",
      "source": [
        "Genertion of the LSTM model.\n",
        "The first model that we propose consists of three layers. The first layer is the LSTM layer that generates 50 output nodes. These nodes are connected to a fully connected layer and outputs 25 nodes. In the final layer we only have one node.\n",
        "\n"
      ],
      "metadata": {
        "id": "s-R7Z9OkGhLm"
      }
    },
    {
      "cell_type": "code",
      "source": [
        "def create_model(X_train, verbose=False):\n",
        "  \"\"\"\n",
        "  Creates a model given a X_train of shape (n_samples, window_size)\n",
        "  \"\"\"\n",
        "  model=Sequential()\n",
        "  model.add(LSTM(50, activation='relu', input_shape=(X_train.shape[1],1)))\n",
        "  model.add(Dense(25))\n",
        "  model.add(Dense(1))\n",
        "  model.compile(loss='mean_squared_error', optimizer='adam')\n",
        "  if verbose:\n",
        "    model.summary()\n",
        "  return model\n",
        "\n",
        "model = create_model(X_train)"
      ],
      "metadata": {
        "id": "pCUFPG6vGf1G"
      },
      "execution_count": null,
      "outputs": []
    },
    {
      "cell_type": "markdown",
      "source": [
        "We train the model"
      ],
      "metadata": {
        "id": "7uX72xraGmHU"
      }
    },
    {
      "cell_type": "code",
      "source": [
        "model.fit(X_train, y_train, validation_data=(X_val, y_val), epochs=10, batch_size=10, verbose=1)"
      ],
      "metadata": {
        "id": "2K3sPZfEGnaH",
        "colab": {
          "base_uri": "https://localhost:8080/"
        },
        "outputId": "d0084f06-3436-480c-bdaa-e08363348cc5"
      },
      "execution_count": null,
      "outputs": [
        {
          "output_type": "stream",
          "name": "stdout",
          "text": [
            "Epoch 1/10\n",
            "59/59 [==============================] - 2s 10ms/step - loss: 0.3274 - val_loss: 0.0289\n",
            "Epoch 2/10\n",
            "59/59 [==============================] - 0s 5ms/step - loss: 0.0367 - val_loss: 0.0222\n",
            "Epoch 3/10\n",
            "59/59 [==============================] - 0s 8ms/step - loss: 0.0302 - val_loss: 0.0222\n",
            "Epoch 4/10\n",
            "59/59 [==============================] - 1s 10ms/step - loss: 0.0259 - val_loss: 0.0226\n",
            "Epoch 5/10\n",
            "59/59 [==============================] - 0s 7ms/step - loss: 0.0245 - val_loss: 0.0214\n",
            "Epoch 6/10\n",
            "59/59 [==============================] - 1s 9ms/step - loss: 0.0232 - val_loss: 0.0213\n",
            "Epoch 7/10\n",
            "59/59 [==============================] - 0s 8ms/step - loss: 0.0225 - val_loss: 0.0218\n",
            "Epoch 8/10\n",
            "59/59 [==============================] - 1s 10ms/step - loss: 0.0208 - val_loss: 0.0204\n",
            "Epoch 9/10\n",
            "59/59 [==============================] - 0s 8ms/step - loss: 0.0218 - val_loss: 0.0206\n",
            "Epoch 10/10\n",
            "59/59 [==============================] - 0s 7ms/step - loss: 0.0204 - val_loss: 0.0223\n"
          ]
        },
        {
          "output_type": "execute_result",
          "data": {
            "text/plain": [
              "<keras.callbacks.History at 0x7f3fb33b4550>"
            ]
          },
          "metadata": {},
          "execution_count": 36
        }
      ]
    },
    {
      "cell_type": "markdown",
      "source": [
        "##### Performance\n",
        "\n",
        "In this section, we show the performance of the trained model on the training, the test and the validation data."
      ],
      "metadata": {
        "id": "6eIJVyJuGrUF"
      }
    },
    {
      "cell_type": "markdown",
      "source": [
        "**Training data**"
      ],
      "metadata": {
        "id": "NcXd5jOwGv1c"
      }
    },
    {
      "cell_type": "code",
      "source": [
        "train_predictions = model.predict(X_train).flatten()\n",
        "train_results     = pd.DataFrame(data={'Train Predictions':train_predictions, 'Actuals':y_train})\n",
        "\n",
        "# Plot the predictions and actual data for the training set\n",
        "train_results['days'] = train_results.reset_index().index.astype(np.float64)\n",
        "train_results[[\"days\",\"Train Predictions\",\"Actuals\"]].plot(x=\"days\", grid=True, title='Training data')"
      ],
      "metadata": {
        "id": "dOUebQ05GzMn",
        "colab": {
          "base_uri": "https://localhost:8080/",
          "height": 312
        },
        "outputId": "c951d84f-da19-411c-f31c-ae2c2b5d4bd0"
      },
      "execution_count": null,
      "outputs": [
        {
          "output_type": "execute_result",
          "data": {
            "text/plain": [
              "<matplotlib.axes._subplots.AxesSubplot at 0x7f3fb0e88ed0>"
            ]
          },
          "metadata": {},
          "execution_count": 37
        },
        {
          "output_type": "display_data",
          "data": {
            "text/plain": [
              "<Figure size 432x288 with 1 Axes>"
            ],
            "image/png": "[encoded data removed]"
          },
          "metadata": {
            "needs_background": "light"
          }
        }
      ]
    },
    {
      "cell_type": "markdown",
      "source": [
        "**Validation data**"
      ],
      "metadata": {
        "id": "OoPDFMtWG3gc"
      }
    },
    {
      "cell_type": "code",
      "source": [
        "val_predictions = model.predict(X_val).flatten()\n",
        "val_results     = pd.DataFrame(data={'Val Predictions':val_predictions, 'Actuals':y_val})\n",
        "\n",
        "# Plot the predictions and actual data for the training set\n",
        "val_results['days'] = val_results.reset_index().index.astype(np.float64)\n",
        "val_results[[\"days\",\"Val Predictions\",\"Actuals\"]].plot(x=\"days\", grid=True, title='Validation data')"
      ],
      "metadata": {
        "id": "BcowcAT5G5vu",
        "colab": {
          "base_uri": "https://localhost:8080/",
          "height": 312
        },
        "outputId": "a9b2734f-2a58-42d5-a5b5-e32ad3de3396"
      },
      "execution_count": null,
      "outputs": [
        {
          "output_type": "execute_result",
          "data": {
            "text/plain": [
              "<matplotlib.axes._subplots.AxesSubplot at 0x7f3faf332610>"
            ]
          },
          "metadata": {},
          "execution_count": 38
        },
        {
          "output_type": "display_data",
          "data": {
            "text/plain": [
              "<Figure size 432x288 with 1 Axes>"
            ],
            "image/png": "[encoded data removed]"
          },
          "metadata": {
            "needs_background": "light"
          }
        }
      ]
    },
    {
      "cell_type": "markdown",
      "source": [
        "**Test data**"
      ],
      "metadata": {
        "id": "PSeopWoyG8Xl"
      }
    },
    {
      "cell_type": "code",
      "source": [
        "test_predictions = model.predict(X_test).flatten()\n",
        "test_results     = pd.DataFrame(data={'Test Predictions':test_predictions, 'Actuals':y_test})\n",
        "\n",
        "# Plot the predictions and actual data for the training set\n",
        "test_results['days'] = test_results.reset_index().index.astype(np.float64)\n",
        "test_results[[\"days\",\"Test Predictions\",\"Actuals\"]].plot(x=\"days\", grid=True, title='Test data')"
      ],
      "metadata": {
        "id": "JQsUn0B6HAEw",
        "colab": {
          "base_uri": "https://localhost:8080/",
          "height": 312
        },
        "outputId": "9f142159-db98-42d4-c419-b143831f7cba"
      },
      "execution_count": null,
      "outputs": [
        {
          "output_type": "execute_result",
          "data": {
            "text/plain": [
              "<matplotlib.axes._subplots.AxesSubplot at 0x7f3fb33de410>"
            ]
          },
          "metadata": {},
          "execution_count": 39
        },
        {
          "output_type": "display_data",
          "data": {
            "text/plain": [
              "<Figure size 432x288 with 1 Axes>"
            ],
            "image/png": "[encoded data removed]"
          },
          "metadata": {
            "needs_background": "light"
          }
        }
      ]
    },
    {
      "cell_type": "code",
      "source": [
        "print('Train rmse:', np.sqrt(mean_squared_error(y_train, train_predictions)))\n",
        "print('Validation rmse:', np.sqrt(mean_squared_error(y_val, val_predictions)))\n",
        "print('Test rmse:', np.sqrt(mean_squared_error(y_test, test_predictions)))"
      ],
      "metadata": {
        "id": "GAMvx5a-f9nl",
        "colab": {
          "base_uri": "https://localhost:8080/"
        },
        "outputId": "529dccc8-210a-48ba-837b-4f1f200f0890"
      },
      "execution_count": null,
      "outputs": [
        {
          "output_type": "stream",
          "name": "stdout",
          "text": [
            "Train rmse: 0.14178397947731472\n",
            "Validation rmse: 0.14924653652965802\n",
            "Test rmse: 0.1549860659925492\n"
          ]
        }
      ]
    },
    {
      "cell_type": "markdown",
      "source": [
        "##### Parameter optimization"
      ],
      "metadata": {
        "id": "ovRC2aubP4d1"
      }
    },
    {
      "cell_type": "markdown",
      "source": [
        "However, we observe in the validation and test data that there is a shift in the predicted values. In order to reduce that gap, we will find what is the window size that reduces the most the mean square error."
      ],
      "metadata": {
        "id": "Lnjp5hyof5dK"
      }
    },
    {
      "cell_type": "code",
      "source": [
        "train_err = []\n",
        "val_err = []\n",
        "\n",
        "window_sizes = [3, 5, 8, 10, 15, 20, 30, 40]\n",
        "\n",
        "for window in window_sizes: \n",
        "  X, y = preprocessDataForLSTM(df_normalized['new_deaths_smoothed'], window_size=window)\n",
        "\n",
        "  # Create test, validation, and training tests\n",
        "  train_size       = int(np.round(len(y)*0.7))\n",
        "\n",
        "  validation_size  = int(np.round((len(y) - train_size) * 0.7))\n",
        "  test_start       = train_size + validation_size\n",
        "\n",
        "  X_train, y_train = X[:train_size], y[:train_size]\n",
        "  X_val  , y_val   = X[train_size:test_start], y[train_size:test_start]\n",
        "  X_test , y_test  = X[test_start:], y[test_start:]\n",
        "  print(X_train.shape)\n",
        "\n",
        "  # create and fit the model\n",
        "  model = create_model(X_train=X_train)\n",
        "  model.fit(X_train, y_train, validation_data=(X_val, y_val), epochs=10, batch_size=10, verbose=0)\n",
        "\n",
        "  # predict values and append to list\n",
        "  train_predictions = model.predict(X_train)\n",
        "  val_predictions = model.predict(X_val)\n",
        "  train_err.append(np.sqrt(mean_squared_error(y_train, train_predictions)))\n",
        "  val_err.append(np.sqrt(mean_squared_error(y_val, val_predictions)))"
      ],
      "metadata": {
        "id": "_Q11YHjPn_7B",
        "colab": {
          "base_uri": "https://localhost:8080/"
        },
        "outputId": "5f4c1865-5002-48e5-dbef-4ff892ba4d23"
      },
      "execution_count": null,
      "outputs": [
        {
          "output_type": "stream",
          "name": "stdout",
          "text": [
            "(592, 3)\n",
            "(590, 5)\n",
            "(588, 8)\n",
            "(587, 10)\n",
            "(583, 15)\n",
            "(580, 20)\n",
            "(573, 30)\n",
            "(566, 40)\n"
          ]
        }
      ]
    },
    {
      "cell_type": "code",
      "source": [
        "tmp = pd.concat([pd.DataFrame(train_err, columns=['train_error']),\n",
        "           pd.DataFrame(val_err ,columns=['val_error']),\n",
        "           pd.DataFrame(window_sizes ,columns=['window'])], axis=1)\n",
        "\n",
        "tmp[[\"window\",\"train_error\",\"val_error\"]].plot(x=\"window\", grid=True, title='Training data')"
      ],
      "metadata": {
        "id": "r68NqWn4Zo6Z",
        "colab": {
          "base_uri": "https://localhost:8080/",
          "height": 312
        },
        "outputId": "03330824-65b1-4efb-816d-28a80147f71d"
      },
      "execution_count": null,
      "outputs": [
        {
          "output_type": "execute_result",
          "data": {
            "text/plain": [
              "<matplotlib.axes._subplots.AxesSubplot at 0x7f3faf547c10>"
            ]
          },
          "metadata": {},
          "execution_count": 42
        },
        {
          "output_type": "display_data",
          "data": {
            "text/plain": [
              "<Figure size 432x288 with 1 Axes>"
            ],
            "image/png": "[encoded data removed]"
          },
          "metadata": {
            "needs_background": "light"
          }
        }
      ]
    },
    {
      "cell_type": "markdown",
      "source": [
        "We now observe that there is not much to do in terms of the window size since the RMSE remains pretty close for all the different windows sizes that were tested. The next step is to create a Random Search of the model using the window size that generated the lowest validation error, which is between 15 and 20. \n",
        "\n",
        "Within the Random Search, the parameters that are being randomly selected are:\n",
        "- The number of memory cells in the LSTM layer (between 30-100 with steps of 20)\n",
        "- The number of hidden layers (between 1 and 4)\n",
        "- The number of neurons in the hidden layers(between 50 and 200 with step of 50)\n",
        "- The learning rate from Adam Optimizer (choose between 1e-2, 1e-3, 1e-4)"
      ],
      "metadata": {
        "id": "yqWQmgf_ZsbJ"
      }
    },
    {
      "cell_type": "code",
      "source": [
        "X, y = preprocessDataForLSTM(df_normalized['new_deaths_smoothed'], window_size=15)\n",
        "\n",
        "\n",
        "# Create test, validation, and training tests\n",
        "train_size       = int(np.round(len(y)*0.7))\n",
        "\n",
        "validation_size  = int(np.round((len(y) - train_size) * 0.7))\n",
        "test_start       = train_size + validation_size\n",
        "\n",
        "X_train, y_train = X[:train_size], y[:train_size]\n",
        "X_val  , y_val   = X[train_size:test_start], y[train_size:test_start]\n",
        "X_test , y_test  = X[test_start:], y[test_start:]"
      ],
      "metadata": {
        "id": "Mgt6fYRTZrpV"
      },
      "execution_count": null,
      "outputs": []
    },
    {
      "cell_type": "code",
      "source": [
        "def create_model_opt(hp):\n",
        "  \"\"\"\n",
        "  Create a model that will be used to search the best combination of parameters\n",
        "  \"\"\"\n",
        "  model = Sequential()\n",
        "  model.add(LSTM(hp.Int('input_unit', min_value=30, max_value=100, step=20), activation='relu', input_shape=(15,1)))\n",
        "  for i in range(hp.Int('n_layers', 1, 4)):\n",
        "    model.add(Dense(hp.Int(f'fc_{i}_units', min_value=50, max_value=200, step=50)))\n",
        "  model.add(Dense(1))\n",
        "  model.compile(loss='mse', metrics=['mse'], optimizer=Adam(hp.Choice('learning_rate', values=[1e-2, 1e-3, 1e-4])))\n",
        "  return model"
      ],
      "metadata": {
        "id": "8k9LX0oxZwsW"
      },
      "execution_count": null,
      "outputs": []
    },
    {
      "cell_type": "code",
      "source": [
        "tuner = RandomSearch(create_model_opt, objective='mse', max_trials=8, executions_per_trial=1, directory='/user2.json')"
      ],
      "metadata": {
        "id": "0soWSwnFZhER"
      },
      "execution_count": null,
      "outputs": []
    },
    {
      "cell_type": "code",
      "source": [
        "tuner.search(x=X_train, y=y_train, epochs=30, batch_size=10, validation_data=(X_val,y_val))"
      ],
      "metadata": {
        "id": "FrgDqgrPZhUj",
        "colab": {
          "base_uri": "https://localhost:8080/"
        },
        "outputId": "10720fe5-5480-41d6-f4c7-37500089d4f2"
      },
      "execution_count": null,
      "outputs": [
        {
          "output_type": "stream",
          "name": "stdout",
          "text": [
            "Trial 8 Complete [00h 00m 19s]\n",
            "mse: 0.016631335020065308\n",
            "\n",
            "Best mse So Far: 0.01557612232863903\n",
            "Total elapsed time: 00h 02m 49s\n",
            "INFO:tensorflow:Oracle triggered exit\n"
          ]
        }
      ]
    },
    {
      "cell_type": "code",
      "source": [
        "# Get the best model\n",
        "best_model = tuner.get_best_models(num_models=1)[0]\n",
        "best_model.summary()"
      ],
      "metadata": {
        "id": "2WoPXgi4ads3",
        "colab": {
          "base_uri": "https://localhost:8080/"
        },
        "outputId": "342a7f38-e1a2-4b9a-e85e-14da9f4e229a"
      },
      "execution_count": null,
      "outputs": [
        {
          "output_type": "stream",
          "name": "stdout",
          "text": [
            "Model: \"sequential\"\n",
            "_________________________________________________________________\n",
            " Layer (type)                Output Shape              Param #   \n",
            "=================================================================\n",
            " lstm (LSTM)                 (None, 90)                33120     \n",
            "                                                                 \n",
            " dense (Dense)               (None, 100)               9100      \n",
            "                                                                 \n",
            " dense_1 (Dense)             (None, 50)                5050      \n",
            "                                                                 \n",
            " dense_2 (Dense)             (None, 200)               10200     \n",
            "                                                                 \n",
            " dense_3 (Dense)             (None, 50)                10050     \n",
            "                                                                 \n",
            " dense_4 (Dense)             (None, 1)                 51        \n",
            "                                                                 \n",
            "=================================================================\n",
            "Total params: 67,571\n",
            "Trainable params: 67,571\n",
            "Non-trainable params: 0\n",
            "_________________________________________________________________\n"
          ]
        }
      ]
    },
    {
      "cell_type": "code",
      "source": [
        "train_predictions = best_model.predict(X_train).flatten()\n",
        "train_results     = pd.DataFrame(data={'Train Predictions':train_predictions, 'Actuals':y_train})\n",
        "\n",
        "val_predictions = best_model.predict(X_val).flatten()\n",
        "val_results     = pd.DataFrame(data={'Val Predictions':val_predictions, 'Actuals':y_val})\n",
        "\n",
        "# Plot the predictions and actual data for the training set\n",
        "train_results['days'] = train_results.reset_index().index.astype(np.float64)\n",
        "train_results[[\"days\",\"Train Predictions\",\"Actuals\"]].plot(x=\"days\", grid=True, title='Training data')"
      ],
      "metadata": {
        "id": "j4dih1jEZ2pk",
        "colab": {
          "base_uri": "https://localhost:8080/",
          "height": 312
        },
        "outputId": "e0331b75-889b-49c0-eee6-9d893b0dacaf"
      },
      "execution_count": null,
      "outputs": [
        {
          "output_type": "execute_result",
          "data": {
            "text/plain": [
              "<matplotlib.axes._subplots.AxesSubplot at 0x7f3fb0ea4850>"
            ]
          },
          "metadata": {},
          "execution_count": 48
        },
        {
          "output_type": "display_data",
          "data": {
            "text/plain": [
              "<Figure size 432x288 with 1 Axes>"
            ],
            "image/png": "[encoded data removed]"
          },
          "metadata": {
            "needs_background": "light"
          }
        }
      ]
    },
    {
      "cell_type": "code",
      "source": [
        "test_predictions = best_model.predict(X_test).flatten()\n",
        "test_results     = pd.DataFrame(data={'Test Predictions':test_predictions, 'Actuals':y_test})\n",
        "\n",
        "# Plot the predictions and actual data for the training set\n",
        "test_results['days'] = test_results.reset_index().index.astype(np.float64)\n",
        "test_results[[\"days\",\"Test Predictions\",\"Actuals\"]].plot(x=\"days\", grid=True, title='Test data')"
      ],
      "metadata": {
        "id": "o3cco-6-Z4SM",
        "colab": {
          "base_uri": "https://localhost:8080/",
          "height": 312
        },
        "outputId": "6d992d39-1acc-4548-86b7-8b70f7acbec5"
      },
      "execution_count": null,
      "outputs": [
        {
          "output_type": "execute_result",
          "data": {
            "text/plain": [
              "<matplotlib.axes._subplots.AxesSubplot at 0x7f3fa9b2d150>"
            ]
          },
          "metadata": {},
          "execution_count": 49
        },
        {
          "output_type": "display_data",
          "data": {
            "text/plain": [
              "<Figure size 432x288 with 1 Axes>"
            ],
            "image/png": "[encoded data removed]"
          },
          "metadata": {
            "needs_background": "light"
          }
        }
      ]
    },
    {
      "cell_type": "code",
      "source": [
        "print('Train rmse:', np.sqrt(mean_squared_error(y_train, train_predictions)))\n",
        "print('Validation rmse:', np.sqrt(mean_squared_error(y_val, val_predictions)))\n",
        "print('Test rmse:', np.sqrt(mean_squared_error(y_test, test_predictions)))"
      ],
      "metadata": {
        "id": "wZCmgNdzZ-sQ",
        "colab": {
          "base_uri": "https://localhost:8080/"
        },
        "outputId": "1a36589a-7575-40bf-8e15-0d155920864c"
      },
      "execution_count": null,
      "outputs": [
        {
          "output_type": "stream",
          "name": "stdout",
          "text": [
            "Train rmse: 0.1349939243303873\n",
            "Validation rmse: 0.16921657865280998\n",
            "Test rmse: 0.14399779563469833\n"
          ]
        }
      ]
    },
    {
      "cell_type": "markdown",
      "source": [
        "We can observe that we perform slightly better after the Random Search, but the performance is still around the same values. Since we are doing Random Search, if we execute the code again, we may have better or worse values, since the search is not exhaustive and we are limitting the combinations to a certain maximum number of combinations."
      ],
      "metadata": {
        "id": "rmgq8PqiZ9Hx"
      }
    },
    {
      "cell_type": "markdown",
      "source": [
        "#### GRU \n",
        "GRU (Gated Recurrent Unit) aims to solve the vanishing gradient problem which comes with a standard recurrent neural network. GRU can also be considered as a variation on the LSTM because both are designed similarly and, in some cases, produce equally excellent results.\n",
        "To solve the vanishing gradient problem of a standard RNN, GRU uses, so-called, update gate and reset gate. Basically, these are two vectors which decide what information should be passed to the output. The special thing about them is that they can be trained to keep information from long ago, without washing it through time or remove information which is irrelevant to the prediction.\n",
        "\n",
        "The update gate is responsible for determining the amount of previous information that needs to pass along the next state. This is really powerful because the model can decide to copy all the information from the past and eliminate the risk of vanishing gradient. \n",
        "Reset gate\n",
        "\n",
        "The reset gate is used from the model to decide how much of the past information is needed to neglect; in short, it decides whether the previous cell state is important or not.      \n",
        "\n",
        "First, the reset gate comes into action it stores relevant information from the past time step into new memory content. Then it multiplies the input vector and hidden state with their weights. Next, it calculates element-wise multiplication between the reset gate and previously hidden state multiple. After summing up the above steps the non-linear activation function is applied and the next sequence is generated.     "
      ],
      "metadata": {
        "id": "-tpfa2a3ougS"
      }
    },
    {
      "cell_type": "code",
      "source": [
        "import numpy as np\n",
        "\n",
        "from sklearn.preprocessing import StandardScaler\n",
        "\n",
        "from keras.models import Sequential\n",
        "from keras.layers import Dense\n",
        "from keras.layers import GRU"
      ],
      "metadata": {
        "id": "83eKmD_jCHi6"
      },
      "execution_count": null,
      "outputs": []
    },
    {
      "cell_type": "code",
      "source": [
        "lookback = 30\n",
        "horizon = 30\n",
        "test_samples = 7\n",
        "PREDICTORS = ['new_cases_smoothed','new_deaths_smoothed_per_million','new_cases_smoothed_per_million']"
      ],
      "metadata": {
        "id": "iAfCwW-PVJtu"
      },
      "execution_count": null,
      "outputs": []
    },
    {
      "cell_type": "code",
      "source": [
        "# Divide the data in windows\n",
        "X, y = preprocessDataForLSTM(df_normalized['new_deaths_smoothed'], window_size = 5)\n",
        "\n",
        "# Create test, validation, and training tests\n",
        "train_size       = int(np.round(len(y)*0.7))\n",
        "\n",
        "validation_size  = int(np.round((len(y) - train_size) * 0.7))\n",
        "test_start       = train_size + validation_size\n",
        "\n",
        "X_train, y_train = X[:train_size], y[:train_size]\n",
        "X_val  , y_val   = X[train_size:test_start], y[train_size:test_start]\n",
        "X_test , y_test  = X[test_start:], y[test_start:]"
      ],
      "metadata": {
        "id": "1Tmw3Br_VNRS"
      },
      "execution_count": null,
      "outputs": []
    },
    {
      "cell_type": "code",
      "source": [
        "def create_model(X_train, verbose=False):\n",
        "  model = Sequential()  \n",
        "  model.add(GRU(50, activation='linear', input_shape=(X_train.shape[1],1)) )\n",
        "  model.add(Dense(25))\n",
        "  model.add(Dense(1))\n",
        "  #model.add(Dense(horizon, activation='linear'))\n",
        "  model.compile(loss='mse', optimizer='adam', metrics=['accuracy'])  \n",
        "  if verbose:\n",
        "    model.summary()\n",
        "  return model\n",
        "\n",
        "model = create_model(X_train)"
      ],
      "metadata": {
        "id": "LLMxWJ7stnxs"
      },
      "execution_count": null,
      "outputs": []
    },
    {
      "cell_type": "code",
      "source": [
        "model.fit(X_train, y_train, validation_data=(X_val, y_val), epochs=10, batch_size=10, verbose=1)"
      ],
      "metadata": {
        "id": "8gqw9OXUtpm8",
        "colab": {
          "base_uri": "https://localhost:8080/"
        },
        "outputId": "86b90bfa-c348-4067-f79f-af848a1f961b"
      },
      "execution_count": null,
      "outputs": [
        {
          "output_type": "stream",
          "name": "stdout",
          "text": [
            "Epoch 1/10\n",
            "59/59 [==============================] - 2s 10ms/step - loss: 0.2473 - accuracy: 0.0000e+00 - val_loss: 0.0250 - val_accuracy: 0.0000e+00\n",
            "Epoch 2/10\n",
            "59/59 [==============================] - 0s 5ms/step - loss: 0.0265 - accuracy: 0.0000e+00 - val_loss: 0.0209 - val_accuracy: 0.0000e+00\n",
            "Epoch 3/10\n",
            "59/59 [==============================] - 0s 5ms/step - loss: 0.0243 - accuracy: 0.0000e+00 - val_loss: 0.0233 - val_accuracy: 0.0000e+00\n",
            "Epoch 4/10\n",
            "59/59 [==============================] - 0s 4ms/step - loss: 0.0225 - accuracy: 0.0000e+00 - val_loss: 0.0203 - val_accuracy: 0.0000e+00\n",
            "Epoch 5/10\n",
            "59/59 [==============================] - 0s 5ms/step - loss: 0.0220 - accuracy: 0.0000e+00 - val_loss: 0.0204 - val_accuracy: 0.0000e+00\n",
            "Epoch 6/10\n",
            "59/59 [==============================] - 0s 5ms/step - loss: 0.0204 - accuracy: 0.0000e+00 - val_loss: 0.0203 - val_accuracy: 0.0000e+00\n",
            "Epoch 7/10\n",
            "59/59 [==============================] - 0s 4ms/step - loss: 0.0197 - accuracy: 0.0000e+00 - val_loss: 0.0204 - val_accuracy: 0.0000e+00\n",
            "Epoch 8/10\n",
            "59/59 [==============================] - 0s 5ms/step - loss: 0.0186 - accuracy: 0.0000e+00 - val_loss: 0.0210 - val_accuracy: 0.0000e+00\n",
            "Epoch 9/10\n",
            "59/59 [==============================] - 0s 5ms/step - loss: 0.0180 - accuracy: 0.0000e+00 - val_loss: 0.0211 - val_accuracy: 0.0000e+00\n",
            "Epoch 10/10\n",
            "59/59 [==============================] - 0s 5ms/step - loss: 0.0191 - accuracy: 0.0000e+00 - val_loss: 0.0203 - val_accuracy: 0.0000e+00\n"
          ]
        },
        {
          "output_type": "execute_result",
          "data": {
            "text/plain": [
              "<keras.callbacks.History at 0x7f3fa8d1c950>"
            ]
          },
          "metadata": {},
          "execution_count": 55
        }
      ]
    },
    {
      "cell_type": "code",
      "source": [
        "train_predictions = model.predict(X_train).flatten()\n",
        "train_results     = pd.DataFrame(data={'Train Predictions':train_predictions, 'Actuals':y_train})\n",
        "\n",
        "# Plot the predictions and actual data for the training set\n",
        "train_results['days'] = train_results.reset_index().index.astype(np.float64)\n",
        "train_results[[\"days\",\"Train Predictions\",\"Actuals\"]].plot(x=\"days\", grid=True, title='Training data')"
      ],
      "metadata": {
        "id": "vDucq8vBtrKu",
        "colab": {
          "base_uri": "https://localhost:8080/",
          "height": 312
        },
        "outputId": "fd0074b6-743b-4f5f-a989-eebd3b196858"
      },
      "execution_count": null,
      "outputs": [
        {
          "output_type": "execute_result",
          "data": {
            "text/plain": [
              "<matplotlib.axes._subplots.AxesSubplot at 0x7f3fb080ddd0>"
            ]
          },
          "metadata": {},
          "execution_count": 56
        },
        {
          "output_type": "display_data",
          "data": {
            "text/plain": [
              "<Figure size 432x288 with 1 Axes>"
            ],
            "image/png": "[encoded data removed]"
          },
          "metadata": {
            "needs_background": "light"
          }
        }
      ]
    },
    {
      "cell_type": "code",
      "source": [
        "val_predictions = model.predict(X_val).flatten()\n",
        "val_results     = pd.DataFrame(data={'Val Predictions':val_predictions, 'Actuals':y_val})\n",
        "\n",
        "# Plot the predictions and actual data for the training set\n",
        "val_results['days'] = val_results.reset_index().index.astype(np.float64)\n",
        "val_results[[\"days\",\"Val Predictions\",\"Actuals\"]].plot(x=\"days\", grid=True, title='Validation data')"
      ],
      "metadata": {
        "id": "LBwUcgG0tsjd",
        "colab": {
          "base_uri": "https://localhost:8080/",
          "height": 312
        },
        "outputId": "55dccb91-3420-4b2b-9f74-8abb80ce3742"
      },
      "execution_count": null,
      "outputs": [
        {
          "output_type": "execute_result",
          "data": {
            "text/plain": [
              "<matplotlib.axes._subplots.AxesSubplot at 0x7f3faf2e9650>"
            ]
          },
          "metadata": {},
          "execution_count": 57
        },
        {
          "output_type": "display_data",
          "data": {
            "text/plain": [
              "<Figure size 432x288 with 1 Axes>"
            ],
            "image/png": "[encoded data removed]"
          },
          "metadata": {
            "needs_background": "light"
          }
        }
      ]
    },
    {
      "cell_type": "code",
      "source": [
        "test_predictions = model.predict(X_test).flatten()\n",
        "test_results     = pd.DataFrame(data={'Test Predictions':test_predictions, 'Actuals':y_test})\n",
        "\n",
        "# Plot the predictions and actual data for the training set\n",
        "test_results['days'] = test_results.reset_index().index.astype(np.float64)\n",
        "test_results[[\"days\",\"Test Predictions\",\"Actuals\"]].plot(x=\"days\", grid=True, title='Test data')"
      ],
      "metadata": {
        "id": "fzdHKlnItuBO",
        "colab": {
          "base_uri": "https://localhost:8080/",
          "height": 312
        },
        "outputId": "a796e382-a95e-4f6d-9647-4f11a06b67b7"
      },
      "execution_count": null,
      "outputs": [
        {
          "output_type": "execute_result",
          "data": {
            "text/plain": [
              "<matplotlib.axes._subplots.AxesSubplot at 0x7f3fa962ded0>"
            ]
          },
          "metadata": {},
          "execution_count": 58
        },
        {
          "output_type": "display_data",
          "data": {
            "text/plain": [
              "<Figure size 432x288 with 1 Axes>"
            ],
            "image/png": "[encoded data removed]"
          },
          "metadata": {
            "needs_background": "light"
          }
        }
      ]
    },
    {
      "cell_type": "code",
      "source": [
        "print('Train rmse:', np.sqrt(mean_squared_error(y_train, train_predictions)))\n",
        "print('Validation rmse:', np.sqrt(mean_squared_error(y_val, val_predictions)))\n",
        "print('Test rmse:', np.sqrt(mean_squared_error(y_test, test_predictions)))"
      ],
      "metadata": {
        "id": "OdAgOJmZtyVJ",
        "colab": {
          "base_uri": "https://localhost:8080/"
        },
        "outputId": "7e06930b-2d18-4cb1-c835-818e764cb7a6"
      },
      "execution_count": null,
      "outputs": [
        {
          "output_type": "stream",
          "name": "stdout",
          "text": [
            "Train rmse: 0.12879297037712514\n",
            "Validation rmse: 0.14256440385462205\n",
            "Test rmse: 0.12381753393041388\n"
          ]
        }
      ]
    },
    {
      "cell_type": "markdown",
      "source": [
        "Parameter optimization\n",
        "\n",
        "However, we observe in the validation and test data that there is a shift in the predicted values. In order to reduce that gap, we will find what is the window size that reduces the most the mean square error."
      ],
      "metadata": {
        "id": "PileR3gev7Bi"
      }
    },
    {
      "cell_type": "code",
      "source": [
        "train_err = []\n",
        "val_err = []\n",
        "\n",
        "window_sizes = [3, 5, 8, 10, 15, 20, 30, 40]\n",
        "\n",
        "for window in window_sizes: \n",
        "  X, y = preprocessDataForLSTM(df_normalized['new_deaths_smoothed'], window_size=window)\n",
        "\n",
        "\n",
        "  # Create test, validation, and training tests\n",
        "  train_size       = int(np.round(len(y)*0.7))\n",
        "\n",
        "  validation_size  = int(np.round((len(y) - train_size) * 0.7))\n",
        "  test_start       = train_size + validation_size\n",
        "\n",
        "  X_train, y_train = X[:train_size], y[:train_size]\n",
        "  X_val  , y_val   = X[train_size:test_start], y[train_size:test_start]\n",
        "  X_test , y_test  = X[test_start:], y[test_start:]\n",
        "  print(X_train.shape)\n",
        "\n",
        "  # create and fit the model\n",
        "  model = create_model(X_train=X_train)\n",
        "  model.fit(X_train, y_train, validation_data=(X_val, y_val), epochs=10, batch_size=10, verbose=0)\n",
        "\n",
        "  # predict values and append to list\n",
        "  train_predictions = model.predict(X_train)\n",
        "  val_predictions = model.predict(X_val)\n",
        "  train_err.append(np.sqrt(mean_squared_error(y_train, train_predictions)))\n",
        "  val_err.append(np.sqrt(mean_squared_error(y_val, val_predictions)))"
      ],
      "metadata": {
        "id": "_ntK7N6TvjSi",
        "colab": {
          "base_uri": "https://localhost:8080/"
        },
        "outputId": "0b306ed9-fbf1-4745-8cdc-f20813da1c28"
      },
      "execution_count": null,
      "outputs": [
        {
          "output_type": "stream",
          "name": "stdout",
          "text": [
            "(592, 3)\n",
            "(590, 5)\n",
            "(588, 8)\n",
            "(587, 10)\n",
            "(583, 15)\n",
            "(580, 20)\n",
            "(573, 30)\n",
            "(566, 40)\n"
          ]
        }
      ]
    },
    {
      "cell_type": "code",
      "source": [
        "tmp = pd.concat([pd.DataFrame(train_err, columns=['train_error']),\n",
        "           pd.DataFrame(val_err ,columns=['val_error']),\n",
        "           pd.DataFrame(window_sizes ,columns=['window'])], axis=1)\n",
        "\n",
        "tmp[[\"window\",\"train_error\",\"val_error\"]].plot(x=\"window\", grid=True, title='Training data')"
      ],
      "metadata": {
        "id": "9Xp6lLqHwMGa",
        "colab": {
          "base_uri": "https://localhost:8080/",
          "height": 312
        },
        "outputId": "19b64f3f-600f-4f6f-e3b7-6377d6fec34c"
      },
      "execution_count": null,
      "outputs": [
        {
          "output_type": "execute_result",
          "data": {
            "text/plain": [
              "<matplotlib.axes._subplots.AxesSubplot at 0x7f3faf301890>"
            ]
          },
          "metadata": {},
          "execution_count": 61
        },
        {
          "output_type": "display_data",
          "data": {
            "text/plain": [
              "<Figure size 432x288 with 1 Axes>"
            ],
            "image/png": "[encoded data removed]"
          },
          "metadata": {
            "needs_background": "light"
          }
        }
      ]
    },
    {
      "cell_type": "code",
      "source": [
        "X, y = preprocessDataForLSTM(df_normalized['new_deaths_smoothed'], window_size=15)\n",
        "\n",
        "\n",
        "# Create test, validation, and training tests\n",
        "train_size       = int(np.round(len(y)*0.7))\n",
        "\n",
        "validation_size  = int(np.round((len(y) - train_size) * 0.7))\n",
        "test_start       = train_size + validation_size\n",
        "\n",
        "X_train, y_train = X[:train_size], y[:train_size]\n",
        "X_val  , y_val   = X[train_size:test_start], y[train_size:test_start]\n",
        "X_test , y_test  = X[test_start:], y[test_start:]"
      ],
      "metadata": {
        "id": "ThdTW3SXw_Yb"
      },
      "execution_count": null,
      "outputs": []
    },
    {
      "cell_type": "code",
      "source": [
        "def create_model_opt(hp):\n",
        "  \"\"\"\n",
        "  Create a model that will be used to search the best combination of parameters\n",
        "  \"\"\"\n",
        "  model = Sequential()\n",
        "  model.add(GRU(hp.Int('input_unit', min_value=10, max_value=500, step=10), activation='linear', input_shape=(15,1)))\n",
        "  for i in range(hp.Int('n_layers', 1, 8)):\n",
        "    model.add(Dense(hp.Int(f'fc_{i}_units', min_value=5, max_value=300, step=40)))\n",
        "  model.add(Dense(1))\n",
        "  model.compile(loss='mse', metrics=['mse'], optimizer=Adam(hp.Choice('learning_rate', values=[1e-2, 1e-3, 1e-4])))\n",
        "  return model"
      ],
      "metadata": {
        "id": "FFSxDoiyxEst"
      },
      "execution_count": null,
      "outputs": []
    },
    {
      "cell_type": "code",
      "source": [
        "tuner = RandomSearch(create_model_opt, objective='mse', max_trials=8, executions_per_trial=1, directory='/user5.json')"
      ],
      "metadata": {
        "id": "vt7HbjnLxWmy"
      },
      "execution_count": null,
      "outputs": []
    },
    {
      "cell_type": "code",
      "source": [
        "tuner.search(x=X_train, y=y_train, epochs=30, batch_size=10, validation_data=(X_val,y_val))"
      ],
      "metadata": {
        "id": "TTVL0stkxnzX",
        "colab": {
          "base_uri": "https://localhost:8080/"
        },
        "outputId": "33710771-2b00-44d3-f372-209a5c0a3c1f"
      },
      "execution_count": null,
      "outputs": [
        {
          "output_type": "stream",
          "name": "stdout",
          "text": [
            "Trial 5 Complete [00h 01m 02s]\n",
            "mse: 0.01628022827208042\n",
            "\n",
            "Best mse So Far: 0.01599710062146187\n",
            "Total elapsed time: 00h 04m 50s\n",
            "\n",
            "Search: Running Trial #6\n",
            "\n",
            "Value             |Best Value So Far |Hyperparameter\n",
            "450               |280               |input_unit\n",
            "7                 |7                 |n_layers\n",
            "285               |245               |fc_0_units\n",
            "0.001             |0.0001            |learning_rate\n",
            "45                |245               |fc_1_units\n",
            "125               |165               |fc_2_units\n",
            "125               |285               |fc_3_units\n",
            "285               |5                 |fc_4_units\n",
            "45                |5                 |fc_5_units\n",
            "205               |5                 |fc_6_units\n",
            "\n",
            "Epoch 1/30\n",
            "59/59 [==============================] - 6s 79ms/step - loss: 0.0896 - mse: 0.0896 - val_loss: 0.0237 - val_mse: 0.0237\n",
            "Epoch 2/30\n",
            "59/59 [==============================] - 4s 74ms/step - loss: 0.0258 - mse: 0.0258 - val_loss: 0.0235 - val_mse: 0.0235\n",
            "Epoch 3/30\n",
            "59/59 [==============================] - 4s 73ms/step - loss: 0.0282 - mse: 0.0282 - val_loss: 0.0271 - val_mse: 0.0271\n",
            "Epoch 4/30\n",
            "59/59 [==============================] - 4s 70ms/step - loss: 0.0290 - mse: 0.0290 - val_loss: 0.0260 - val_mse: 0.0260\n",
            "Epoch 5/30\n",
            "59/59 [==============================] - 4s 70ms/step - loss: 0.0489 - mse: 0.0489 - val_loss: 0.0281 - val_mse: 0.0281\n",
            "Epoch 6/30\n",
            "59/59 [==============================] - 4s 72ms/step - loss: 0.0346 - mse: 0.0346 - val_loss: 0.0267 - val_mse: 0.0267\n",
            "Epoch 7/30\n",
            "59/59 [==============================] - 4s 73ms/step - loss: 0.0204 - mse: 0.0204 - val_loss: 0.0366 - val_mse: 0.0366\n",
            "Epoch 8/30\n",
            "59/59 [==============================] - 4s 70ms/step - loss: 0.0402 - mse: 0.0402 - val_loss: 0.0354 - val_mse: 0.0354\n",
            "Epoch 9/30\n",
            "59/59 [==============================] - 4s 70ms/step - loss: 0.0434 - mse: 0.0434 - val_loss: 0.0301 - val_mse: 0.0301\n",
            "Epoch 10/30\n",
            "59/59 [==============================] - 4s 74ms/step - loss: 0.0379 - mse: 0.0379 - val_loss: 0.0262 - val_mse: 0.0262\n",
            "Epoch 11/30\n",
            "59/59 [==============================] - 4s 71ms/step - loss: 0.0187 - mse: 0.0187 - val_loss: 0.0492 - val_mse: 0.0492\n",
            "Epoch 12/30\n",
            "59/59 [==============================] - 4s 71ms/step - loss: 0.0248 - mse: 0.0248 - val_loss: 0.0316 - val_mse: 0.0316\n",
            "Epoch 13/30\n",
            "59/59 [==============================] - 4s 73ms/step - loss: 0.0248 - mse: 0.0248 - val_loss: 0.0337 - val_mse: 0.0337\n",
            "Epoch 14/30\n",
            "59/59 [==============================] - 4s 73ms/step - loss: 0.0253 - mse: 0.0253 - val_loss: 0.0336 - val_mse: 0.0336\n",
            "Epoch 15/30\n",
            "59/59 [==============================] - 4s 74ms/step - loss: 0.0214 - mse: 0.0214 - val_loss: 0.0283 - val_mse: 0.0283\n",
            "Epoch 16/30\n",
            "59/59 [==============================] - 4s 73ms/step - loss: 0.0291 - mse: 0.0291 - val_loss: 0.0579 - val_mse: 0.0579\n",
            "Epoch 17/30\n",
            "59/59 [==============================] - 4s 75ms/step - loss: 0.0339 - mse: 0.0339 - val_loss: 0.0323 - val_mse: 0.0323\n",
            "Epoch 18/30\n",
            "59/59 [==============================] - 4s 75ms/step - loss: 0.0192 - mse: 0.0192 - val_loss: 0.0292 - val_mse: 0.0292\n",
            "Epoch 19/30\n",
            "59/59 [==============================] - 4s 72ms/step - loss: 0.0208 - mse: 0.0208 - val_loss: 0.0311 - val_mse: 0.0311\n",
            "Epoch 20/30\n",
            "59/59 [==============================] - 4s 75ms/step - loss: 0.0243 - mse: 0.0243 - val_loss: 0.0277 - val_mse: 0.0277\n",
            "Epoch 21/30\n",
            "59/59 [==============================] - 4s 72ms/step - loss: 0.0218 - mse: 0.0218 - val_loss: 0.0355 - val_mse: 0.0355\n",
            "Epoch 22/30\n",
            " 7/59 [==>...........................] - ETA: 3s - loss: 0.0168 - mse: 0.0168"
          ]
        }
      ]
    },
    {
      "cell_type": "code",
      "source": [
        "best_model = tuner.get_best_models(num_models=1)[0]\n",
        "best_model.summary()"
      ],
      "metadata": {
        "id": "jf67AOlExub4"
      },
      "execution_count": null,
      "outputs": []
    },
    {
      "cell_type": "code",
      "source": [
        "train_predictions = best_model.predict(X_train).flatten()\n",
        "train_results     = pd.DataFrame(data={'Train Predictions':train_predictions, 'Actuals':y_train})\n",
        "\n",
        "val_predictions = best_model.predict(X_val).flatten()\n",
        "val_results     = pd.DataFrame(data={'Val Predictions':val_predictions, 'Actuals':y_val})\n",
        "\n",
        "# Plot the predictions and actual data for the training set\n",
        "train_results['days'] = train_results.reset_index().index.astype(np.float64)\n",
        "train_results[[\"days\",\"Train Predictions\",\"Actuals\"]].plot(x=\"days\", grid=True, title='Training data')"
      ],
      "metadata": {
        "id": "0lEhhEMP2FPi"
      },
      "execution_count": null,
      "outputs": []
    },
    {
      "cell_type": "code",
      "source": [
        "test_predictions = best_model.predict(X_test).flatten()\n",
        "test_results     = pd.DataFrame(data={'Test Predictions':test_predictions, 'Actuals':y_test})\n",
        "\n",
        "# Plot the predictions and actual data for the training set\n",
        "test_results['days'] = test_results.reset_index().index.astype(np.float64)\n",
        "test_results[[\"days\",\"Test Predictions\",\"Actuals\"]].plot(x=\"days\", grid=True, title='Test data')"
      ],
      "metadata": {
        "id": "WNArk1p92OCD"
      },
      "execution_count": null,
      "outputs": []
    },
    {
      "cell_type": "code",
      "source": [
        "print('Train rmse:', np.sqrt(mean_squared_error(y_train, train_predictions)))\n",
        "print('Validation rmse:', np.sqrt(mean_squared_error(y_val, val_predictions)))\n",
        "print('Test rmse:', np.sqrt(mean_squared_error(y_test, test_predictions)))"
      ],
      "metadata": {
        "id": "_7kisIbm2apQ"
      },
      "execution_count": null,
      "outputs": []
    },
    {
      "cell_type": "markdown",
      "source": [
        "As in the LTSM case, we can observe that we perform slightly better after the Random Search, but the performance is still around the same values. Since we are doing Random Search, if we execute the code again, we may have better or worse values, since the search is not exhaustive and we are limitting the combinations to a certain maximum number of combinations."
      ],
      "metadata": {
        "id": "B1TdxAWE-Axw"
      }
    },
    {
      "cell_type": "markdown",
      "source": [
        "# Discussion\n",
        "In this work different neural network structures and architectures were used in order to obtain a good model where each one of them learned how the COVID-19 has advanced in deaths in all this time. All three models achieve really good results with slightly differences but in overall they predict well the data. Because of the nature of the virus as well as other factors in world, making a forecast with a window size too large may cause problems with the data learned, so this solutions can only work with small window sizes. Different optimization techniques and optimizers were used to demonstrate how this algorithms can affect in the performance of the model, in general all the techniques that were used work pretty well to this kind of dataset. It is important to understand the complexity of these types of datasets, these datasets involve several features that have a weight on the outcome, but are not deterministic. For all three models, as we expected, the GRU architecture had an improvement compared to the LSTM and the simple RNN, however, it is more difficult to find the fitting hyperparameters that optimize the error of the predictions. "
      ],
      "metadata": {
        "id": "M9xFm9tYD9dD"
      }
    },
    {
      "cell_type": "markdown",
      "source": [
        "# Conclusion\n",
        "\n",
        "All three neural networks models show good results and work very well with the data that was given. The dataset that was used contain too many variable that have a huge potential to explore new things with this kind of algorithms and help in some way to the community with all this information that is being extracted every day. For purposes of this article it was only included Mexico in the models but with the results obtained it is very probable that training this models with the data of other countries might work as well. This work gave us a really good understanding in how we can construct robust models and how we can optimize them in order to obtain the best solution possible for our problem. We stronglely think that this kind of challenges are a good opportunity to put in practice all the novel models and technologies to have a better understanding of a complex problem, providing a better overview of the scenarios and predicting what will be the behavior of the outcomes in order to prevent, in the COVID-19 case, deaths and infections."
      ],
      "metadata": {
        "id": "GTrHVizxD-9_"
      }
    },
    {
      "cell_type": "markdown",
      "source": [
        "# References\n",
        "\n",
        "1. Who coronavirus dashboard, https://covid19.who.int/\n",
        "2. Kostadinov, S.: Understanding gru networks (2017),\n",
        "https://towardsdatascience.com/understanding-gru-networks-2ef37df6c9be\n",
        "3. Saavedra, G.: Time series forecasting (Nov 2021),\n",
        "https://www.kaggle.com/code/georgesaavedra/time-series-forecasting/notebook\n",
        "4. Saavedra, G.: Best covid-19 forecasting in us, uk and chile! (Mar 2022),\n",
        "https://www.kaggle.com/code/georgesaavedra/best-covid-19-forecasting-in-us-\n",
        "uk-and-chile\n",
        "5. Schmitt, M.: How to fight covid-19 with machine learning: Data revenue,\n",
        "https://www.datarevenue.com/en-blog/machine-learning-covid-19\n",
        "6. Venkatachalam, M.: Recurrent neural networks (2022),\n",
        "https://towardsdatascience.com/recurrent-neural-networks-d4642c9bc7ce"
      ],
      "metadata": {
        "id": "iAMyynWWEBmv"
      }
    }
  ]
}